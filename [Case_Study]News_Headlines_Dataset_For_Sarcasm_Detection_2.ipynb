{
  "nbformat": 4,
  "nbformat_minor": 0,
  "metadata": {
    "colab": {
      "name": "[Case Study]News Headlines Dataset For Sarcasm Detection_2.ipynb",
      "provenance": [],
      "collapsed_sections": [
        "SSZk4dCIdJtA",
        "iY6LIGd8dg4_",
        "tsqlJ8P-gxRY",
        "H17bW_NOS_h0",
        "poZn3blvs2ZL",
        "BotVXj9my_BW",
        "3O1ONwQ5U-qu",
        "QYbBpNe2j27R",
        "dt8p7TUEoiEF"
      ],
      "include_colab_link": true
    },
    "kernelspec": {
      "name": "python3",
      "display_name": "Python 3"
    }
  },
  "cells": [
    {
      "cell_type": "markdown",
      "metadata": {
        "id": "view-in-github",
        "colab_type": "text"
      },
      "source": [
        "<a href=\"https://colab.research.google.com/github/KhangTran2503/CS114.K21.KHTN/blob/master/%5BCase_Study%5DNews_Headlines_Dataset_For_Sarcasm_Detection_2.ipynb\" target=\"_parent\"><img src=\"https://colab.research.google.com/assets/colab-badge.svg\" alt=\"Open In Colab\"/></a>"
      ]
    },
    {
      "cell_type": "markdown",
      "metadata": {
        "id": "zzp06kQpRbCS",
        "colab_type": "text"
      },
      "source": [
        "# **Báo cáo Case Study: News Headlines Dataset For Sarcasm Detection.**  \n",
        "****"
      ]
    },
    {
      "cell_type": "markdown",
      "metadata": {
        "id": "Gc8Pf2SYB2xG",
        "colab_type": "text"
      },
      "source": [
        "## **Nhóm:**\n",
        "\n",
        "| Họ Và Tên  | MSSV  |\n",
        "| ------ | ----- |\n",
        "| Trần Đình Khang | 18520072|\n",
        "| Vũ Quí San | 18520143 |"
      ]
    },
    {
      "cell_type": "markdown",
      "metadata": {
        "id": "uOLK_EBlFBTe",
        "colab_type": "text"
      },
      "source": [
        "##  **Mô tả bài toán:**\n",
        "\n",
        "Việc phát hiện tin giả để loại bỏ tin giả đó khỏi mạng xã hội hay các tờ báo là một việc rất quan trọng bởi tin giả có thể gây ra nhận thức sai lầm cho người dân, gây thiệt hại, làm mất uy tín các cá nhân, tổ chức hay thậm chí gây ảnh hưởng đến an ninh trật tự xã hội. Một vấn đề gây khó khăn trong việc xây dựng hệ thống nhận biết tin giả chính là sự nhầm lẫn giữa tin giả và tin mang tính chất châm biếm hay mỉa mai. Tin châm biếm hay mỉa mai là tin thật nhưng lại thường được diễn đạt không tường minh, nghĩa đen có thể rất giống tin giả. Vì vậy, bài toán xây dựng hệ thống phân loại tin có châm biếm (hay mỉa mai) hay không là một trong những bài toán tiền đề để giải bài toán phân loại tin giả tin thật.  \n",
        "\n",
        "Cụ thể hơn, ta xét bài toán phát hiện tiêu đề bài báo có nội dung châm biếm (*News Headlines dataset for Sarcasm Detection*) từ [Kaggle](https://www.kaggle.com/rmisra/news-headlines-dataset-for-sarcasm-detection). Dataset được thu thập từ hai tờ báo, thứ nhất là tờ [*TheOnion*](https://www.theonion.com/) (chỉ lấy từ mục News in Brief và mục News in Photos) gồm toàn bài có tiêu đề châm biếm, thứ hai là tờ [*HuffPost*](https://www.huffpost.com/) không có bài nào có tiêu đề châm biếm.\n",
        "* Input: Tiêu đề bài báo.\n",
        "* Ouput: Tiêu đề bài báo được phân lớp là 1 nếu mang tính châm biếm, ngược lại được phân lớp là 0.\n",
        "\n",
        "**Về dữ liệu:**\n",
        "* Dữ liệu huấn luyện: Dữ liệu được download trên trang [Kaggle](https://www.kaggle.com/rmisra/news-headlines-dataset-for-sarcasm-detection) được lưu trong file json. Mỗi dòng dữ liệu bao gồm: \n",
        "     * **article**: Link dẫn tới bài báo.\n",
        "     * **headline**: Tiêu đề của bài báo cần phân loại.\n",
        "     * **is sarcasm**: Tiêu đề có phải là châm biếm hay không. Nếu có mang giá trị 1, ngược lại là 0.\n",
        "      \n",
        "* Dữ liệu kiểm thử: Crawl trên 2 trang báo điện tử ở trên. Tổng cộng có 2000 tiêu đề mới."
      ]
    },
    {
      "cell_type": "markdown",
      "metadata": {
        "id": "p60eF1KZJP4G",
        "colab_type": "text"
      },
      "source": [
        "## **0. Kết nối với Google Drive và chuyển đường dẫn:**\n"
      ]
    },
    {
      "cell_type": "code",
      "metadata": {
        "id": "AhKQbyi9sn9n",
        "colab_type": "code",
        "colab": {
          "base_uri": "https://localhost:8080/",
          "height": 129
        },
        "outputId": "3fe95af3-f9b4-45e3-ecea-7ccf868e9533"
      },
      "source": [
        "# Connect with ggdrive\n",
        "from google.colab import drive\n",
        "drive.mount('/content/drive')"
      ],
      "execution_count": null,
      "outputs": [
        {
          "output_type": "stream",
          "text": [
            "Go to this URL in a browser: https://accounts.google.com/o/oauth2/auth?client_id=947318989803-6bn6qk8qdgf4n4g3pfee6491hc0brc4i.apps.googleusercontent.com&redirect_uri=urn%3aietf%3awg%3aoauth%3a2.0%3aoob&response_type=code&scope=email%20https%3a%2f%2fwww.googleapis.com%2fauth%2fdocs.test%20https%3a%2f%2fwww.googleapis.com%2fauth%2fdrive%20https%3a%2f%2fwww.googleapis.com%2fauth%2fdrive.photos.readonly%20https%3a%2f%2fwww.googleapis.com%2fauth%2fpeopleapi.readonly\n",
            "\n",
            "Enter your authorization code:\n",
            "··········\n",
            "Mounted at /content/drive\n"
          ],
          "name": "stdout"
        }
      ]
    },
    {
      "cell_type": "code",
      "metadata": {
        "id": "Z4S7oyCaK8Ak",
        "colab_type": "code",
        "colab": {
          "base_uri": "https://localhost:8080/",
          "height": 35
        },
        "outputId": "f91e22b5-418f-4069-bc06-558c86401219"
      },
      "source": [
        "# Go to path \n",
        "%cd '/content/drive/My Drive/Colab Notebooks/[Case Study] News Headlines Dataset For Sarcasm Detection'"
      ],
      "execution_count": null,
      "outputs": [
        {
          "output_type": "stream",
          "text": [
            "/content/drive/My Drive/Colab Notebooks/[Case Study] News Headlines Dataset For Sarcasm Detection\n"
          ],
          "name": "stdout"
        }
      ]
    },
    {
      "cell_type": "markdown",
      "metadata": {
        "id": "S8ujsnXpPyAm",
        "colab_type": "text"
      },
      "source": [
        "## **1. Khai báo thư viện:**\n"
      ]
    },
    {
      "cell_type": "code",
      "metadata": {
        "id": "no6B8hKnFAKO",
        "colab_type": "code",
        "colab": {
          "base_uri": "https://localhost:8080/",
          "height": 74
        },
        "outputId": "915deee6-e205-4648-81cd-fbbd83997559"
      },
      "source": [
        "import numpy as np\n",
        "import pandas as pd\n",
        "import seaborn as sns\n",
        "import matplotlib.pyplot as plt\n",
        "from sklearn.model_selection import train_test_split\n",
        "from sklearn.metrics import confusion_matrix\n",
        "from sklearn.svm import LinearSVC\n",
        "from sklearn.model_selection import cross_val_score\n",
        "from sklearn.metrics import accuracy_score"
      ],
      "execution_count": null,
      "outputs": [
        {
          "output_type": "stream",
          "text": [
            "/usr/local/lib/python3.6/dist-packages/statsmodels/tools/_testing.py:19: FutureWarning: pandas.util.testing is deprecated. Use the functions in the public API at pandas.testing instead.\n",
            "  import pandas.util.testing as tm\n"
          ],
          "name": "stderr"
        }
      ]
    },
    {
      "cell_type": "markdown",
      "metadata": {
        "id": "t6Bx9cvqPw6v",
        "colab_type": "text"
      },
      "source": [
        "##**2. Thu thập và tải dữ liệu:**"
      ]
    },
    {
      "cell_type": "markdown",
      "metadata": {
        "id": "mQ1IVZDIM505",
        "colab_type": "text"
      },
      "source": [
        "- Đối với dữ liệu Train thì được lấy từ [Kaggle](https://www.kaggle.com/) với 2 file json là **Sarcasm_Headlines_Dataset.json** và **Sarcasm_Headlines_Dataset_v2.json**\n",
        "- Còn đối với dữ liệu Test thì được crawl từ hai trang là [TheOnion](https://www.theonion.com/) và [HuffPost](https://www.huffpost.com/) , trong đó dữ liệu từ [TheOnion](https://www.theonion.com/) được lưu trong file **onion_headlines.csv**\n",
        "còn dữ liệu từ [HuffPost](https://www.huffpost.com/) được lưu trong file **huffpost_headlines.csv**.\n",
        "\n",
        "\n"
      ]
    },
    {
      "cell_type": "markdown",
      "metadata": {
        "id": "pBLC61aUXAge",
        "colab_type": "text"
      },
      "source": [
        "### **2.1 Thu thập dữ liệu:**"
      ]
    },
    {
      "cell_type": "markdown",
      "metadata": {
        "id": "Oyz82hGrWfjw",
        "colab_type": "text"
      },
      "source": [
        "####**2.1.1 Dữ liệu mới từ TheOnion:**"
      ]
    },
    {
      "cell_type": "markdown",
      "metadata": {
        "id": "sz4WF-cB1urd",
        "colab_type": "text"
      },
      "source": [
        "Đối với trang TheOnion thì mỗi lần ta bấm vào nút “More stories” thì ta sẽ được chuyển đến trang mới gồm 20 bài báo tiếp theo, đường link của các trang chỉ khác nhau ở dãy số cuối nên ta có thể copy các dãy số này bằng tay và lưu vào trong các list. Cụ thể, list đầu tiên là brief_ids lưu các dãy số, mỗi dãy số ứng với một trang gồm 20 bài báo thuộc mục News in Brief; tương tự vậy, list thứ hai là photo_ids lưu các dãy số của các trang chứa bài báo trong mục News in Photos:"
      ]
    },
    {
      "cell_type": "code",
      "metadata": {
        "id": "hJluws0jWdvn",
        "colab_type": "code",
        "colab": {}
      },
      "source": [
        "import requests\n",
        "from datetime import datetime\n",
        "from bs4 import BeautifulSoup\n",
        "import csv\n",
        "\n",
        "brief_ids = [1592311200653, 1591726080182, 1591127280478, 1590584520209, \n",
        "             1589894280339, 1589294340828, 1588711020164, 1588080060229, \n",
        "             1587147720532, 1586546460312, 1586184540217, 1585581600531,\n",
        "             1582920840434, 1582639200695, 1582128720515, 1581532200479,\n",
        "             1581099360048, 1580744340055, 1580142900840, 1579637820343,\n",
        "             1579096620327, 1578410280620, 1576700820848, 1576184280994,\n",
        "             1575574260415, 1575036000486, 1574361720213, 1573762560848,\n",
        "             1573477200438, 1572900480129, 1572348600499, 1571938620032,\n",
        "             1571419440061]\n",
        "\n",
        "photo_ids = [1590159060816, 1588708260098, 1587653040878, 1585925400900,\n",
        "             1584127800188, 1582815000473, 1582061760395, 1580835900882,\n",
        "             1579528800910, 1576610760393, 1574702400578, 1573153500106,\n",
        "             1571849700244, 1570194000584, 1569247200599, 1567182180912,\n",
        "             1565892720386, 1564614900603, 1563235200067, 1560963960321,\n",
        "             1559133180370, 1557413700296, 1556108520577, 1554495180638,\n",
        "             1552834800968, 1551123540512, 1550160960071, 1548972300054,\n",
        "             1547739780965, 1544713860139, 1543513440446, 1541701980758,\n",
        "             1539720900721]\n",
        "\n"
      ],
      "execution_count": null,
      "outputs": []
    },
    {
      "cell_type": "markdown",
      "metadata": {
        "id": "pOtWQ6hA4k9M",
        "colab_type": "text"
      },
      "source": [
        "Duyệt từng trang, tại mỗi trang tìm tất cả các bài báo (tương ứng với việc tìm các tag article), tại mỗi bài báo thì tìm tiêu đề của bài báo đó (nghĩa là tìm tag h2):"
      ]
    },
    {
      "cell_type": "code",
      "metadata": {
        "id": "qpkr4y9Aaghx",
        "colab_type": "code",
        "colab": {}
      },
      "source": [
        "def Onion_crawler(tag, ids, num_articles, label=1):\n",
        "  count = 0\n",
        "  for id in ids:\n",
        "    source = requests.get(\"https://www.theonion.com/c/{}?startTime={}\".format(tag,id)).text\n",
        "    soup = BeautifulSoup(source, 'lxml')\n",
        "    for article in soup.find_all('article'):\n",
        "      headline = article.h2.text\n",
        "      csv_writer.writerow([label, headline])\n",
        "      count += 1\n",
        "      if count == num_articles:\n",
        "        print(f\"Crawled {count} headlines from {tag} tag\")\n",
        "        return"
      ],
      "execution_count": null,
      "outputs": []
    },
    {
      "cell_type": "markdown",
      "metadata": {
        "id": "N5Yxr5BE5yod",
        "colab_type": "text"
      },
      "source": [
        "Lưu dữ liệu crawl được vào  file **onion_headlines.csv**:"
      ]
    },
    {
      "cell_type": "code",
      "metadata": {
        "id": "eGAe0ASnbk-0",
        "colab_type": "code",
        "colab": {
          "base_uri": "https://localhost:8080/",
          "height": 54
        },
        "outputId": "7779f5dd-cf2a-40db-cc12-9b26702508a4"
      },
      "source": [
        "csv_file = open('./data_sarcasm/Test/onion_headlines.csv', 'w')\n",
        "csv_writer = csv.writer(csv_file)\n",
        "csv_writer.writerow(['is_sarcastic', 'headline'])\n",
        "\n",
        "Onion_crawler(\"news-in-brief\", brief_ids, num_articles=644, label=1)\n",
        "Onion_crawler(\"news-in-photos\", photo_ids, num_articles=643, label=1)\n",
        "csv_file.close()"
      ],
      "execution_count": null,
      "outputs": [
        {
          "output_type": "stream",
          "text": [
            "Crawled 644 headlines from news-in-brief tag\n",
            "Crawled 643 headlines from news-in-photos tag\n"
          ],
          "name": "stdout"
        }
      ]
    },
    {
      "cell_type": "markdown",
      "metadata": {
        "id": "oxsbDIrTdeGC",
        "colab_type": "text"
      },
      "source": [
        "####**2.1.2 Dữ liệu mới từ HuffPost:**\n"
      ]
    },
    {
      "cell_type": "markdown",
      "metadata": {
        "id": "LGYQPwmf_QEk",
        "colab_type": "text"
      },
      "source": [
        "*  Ta lấy data từ API của HuffPost:\n",
        "    * Đầu tiên gửi request lấy [500 bài báo đầu tiên](https://www.huffpost.com/api/department/news/cards?page=1&limit=500) từ API. Tại đây ta copy toàn bộ file json và lưu vào file **huffpost_part1.json**.\n",
        "    * Tiếp theo ta gửi request lấy [500 bài báo tiếp theo](https://www.huffpost.com/api/department/news/cards?page=2&limit=500) từ API. Tuy nhiên lần này API chỉ trả về 213 bài báo. Như vậy HuffPost API chỉ cho ta request 713 bài báo gần đây. Ta copy file json và lưu vào file **huffpost_part2.json**.\n",
        "*  Sau khi đã chuẩn bị xong 2 file json. Ta tiến hành đọc 2 file này. Dữ liệu đọc từ file json được lưu dưới dạng các dict và list lồng nhau của Python nên ta có thể dễ dàng dùng index (đối với list) và key (đối với dict) để truy cập vào miền chứa headline. Ta lưu các headline thu được vào file **huffpost_headlines.csv**"
      ]
    },
    {
      "cell_type": "code",
      "metadata": {
        "id": "pOjyWLyIdrE5",
        "colab_type": "code",
        "colab": {}
      },
      "source": [
        "import json"
      ],
      "execution_count": null,
      "outputs": []
    },
    {
      "cell_type": "code",
      "metadata": {
        "id": "5t4IMYQ-F6hQ",
        "colab_type": "code",
        "colab": {}
      },
      "source": [
        "with open('./data_sarcasm/Test/huffpost_part1.json') as f:\n",
        "    part1 = json.load(f)\n",
        "\n",
        "with open('./data_sarcasm/Test/huffpost_part2.json') as f:\n",
        "    part2 = json.load(f)\n",
        "\n",
        "csv_file = open('./data_sarcasm/Test/huffpost_headlines.csv', 'w')\n",
        "csv_writer = csv.writer(csv_file)\n",
        "csv_writer.writerow(['is_sarcastic', 'headline'])\n",
        "\n",
        "for article in part1[\"cards\"]:\n",
        "  headline = article[\"headlines\"][0][\"text\"]\n",
        "  csv_writer.writerow([0, headline])\n",
        "    \n",
        "for article in part2[\"cards\"]:\n",
        "  headline = article[\"headlines\"][0][\"text\"]\n",
        "  csv_writer.writerow([0, headline])\n",
        "\n",
        "csv_file.close()"
      ],
      "execution_count": null,
      "outputs": []
    },
    {
      "cell_type": "markdown",
      "metadata": {
        "id": "SSZk4dCIdJtA",
        "colab_type": "text"
      },
      "source": [
        "### **2.2 Tải dữ liệu:**"
      ]
    },
    {
      "cell_type": "markdown",
      "metadata": {
        "id": "iY6LIGd8dg4_",
        "colab_type": "text"
      },
      "source": [
        "#### **2.2.1 Tải dữ liệu Train:**\n"
      ]
    },
    {
      "cell_type": "markdown",
      "metadata": {
        "id": "KBfs7QMaeMbd",
        "colab_type": "text"
      },
      "source": [
        "* Ta có hai file **Sarcasm_Headlines_Dataset.json** và **Sarcasm_Headlines_Dataset_v2.json** , bây giờ ta kết hợp 2 file lại cho vào cùng một DataFrame **df_Train**.\n",
        "* Sau đó bỏ đi các hàng trùng nhau.\n",
        "\n"
      ]
    },
    {
      "cell_type": "code",
      "metadata": {
        "id": "EK8wtzm8Q3GI",
        "colab_type": "code",
        "colab": {
          "base_uri": "https://localhost:8080/"
        },
        "outputId": "ed9b7816-29b2-4e22-8c3e-7f14de1e190a"
      },
      "source": [
        "df1 = pd.read_json('./data_sarcasm/Train/Sarcasm_Headlines_Dataset_v2.json',lines=True)\n",
        "df2 = pd.read_json('./data_sarcasm/Train/Sarcasm_Headlines_Dataset.json',lines=True)\n",
        "\n",
        "# join two dataframe\n",
        "df_Train = pd.concat([df1,df2],ignore_index=True)\n",
        "\n",
        "# Drop duplicate rows in dataframe\n",
        "df_Train.drop_duplicates(ignore_index=True)\n",
        "\n",
        "# View top df_Train\n",
        "df_Train.head()"
      ],
      "execution_count": null,
      "outputs": [
        {
          "output_type": "execute_result",
          "data": {
            "text/html": [
              "<div>\n",
              "<style scoped>\n",
              "    .dataframe tbody tr th:only-of-type {\n",
              "        vertical-align: middle;\n",
              "    }\n",
              "\n",
              "    .dataframe tbody tr th {\n",
              "        vertical-align: top;\n",
              "    }\n",
              "\n",
              "    .dataframe thead th {\n",
              "        text-align: right;\n",
              "    }\n",
              "</style>\n",
              "<table border=\"1\" class=\"dataframe\">\n",
              "  <thead>\n",
              "    <tr style=\"text-align: right;\">\n",
              "      <th></th>\n",
              "      <th>is_sarcastic</th>\n",
              "      <th>headline</th>\n",
              "      <th>article_link</th>\n",
              "    </tr>\n",
              "  </thead>\n",
              "  <tbody>\n",
              "    <tr>\n",
              "      <th>0</th>\n",
              "      <td>1</td>\n",
              "      <td>thirtysomething scientists unveil doomsday clo...</td>\n",
              "      <td>https://www.theonion.com/thirtysomething-scien...</td>\n",
              "    </tr>\n",
              "    <tr>\n",
              "      <th>1</th>\n",
              "      <td>0</td>\n",
              "      <td>dem rep. totally nails why congress is falling...</td>\n",
              "      <td>https://www.huffingtonpost.com/entry/donna-edw...</td>\n",
              "    </tr>\n",
              "    <tr>\n",
              "      <th>2</th>\n",
              "      <td>0</td>\n",
              "      <td>eat your veggies: 9 deliciously different recipes</td>\n",
              "      <td>https://www.huffingtonpost.com/entry/eat-your-...</td>\n",
              "    </tr>\n",
              "    <tr>\n",
              "      <th>3</th>\n",
              "      <td>1</td>\n",
              "      <td>inclement weather prevents liar from getting t...</td>\n",
              "      <td>https://local.theonion.com/inclement-weather-p...</td>\n",
              "    </tr>\n",
              "    <tr>\n",
              "      <th>4</th>\n",
              "      <td>1</td>\n",
              "      <td>mother comes pretty close to using word 'strea...</td>\n",
              "      <td>https://www.theonion.com/mother-comes-pretty-c...</td>\n",
              "    </tr>\n",
              "  </tbody>\n",
              "</table>\n",
              "</div>"
            ],
            "text/plain": [
              "   is_sarcastic  ...                                       article_link\n",
              "0             1  ...  https://www.theonion.com/thirtysomething-scien...\n",
              "1             0  ...  https://www.huffingtonpost.com/entry/donna-edw...\n",
              "2             0  ...  https://www.huffingtonpost.com/entry/eat-your-...\n",
              "3             1  ...  https://local.theonion.com/inclement-weather-p...\n",
              "4             1  ...  https://www.theonion.com/mother-comes-pretty-c...\n",
              "\n",
              "[5 rows x 3 columns]"
            ]
          },
          "metadata": {
            "tags": []
          },
          "execution_count": 10
        }
      ]
    },
    {
      "cell_type": "code",
      "metadata": {
        "id": "IE1P489D0lI_",
        "colab_type": "code",
        "colab": {}
      },
      "source": [
        "# Assigning\n",
        "X_train_pre = df_Train['headline']\n",
        "y_train = df_Train['is_sarcastic'].to_numpy()"
      ],
      "execution_count": null,
      "outputs": []
    },
    {
      "cell_type": "markdown",
      "metadata": {
        "id": "tsqlJ8P-gxRY",
        "colab_type": "text"
      },
      "source": [
        "#### **2.2.2 Tải dữ liệu Test:**\n"
      ]
    },
    {
      "cell_type": "markdown",
      "metadata": {
        "id": "j06aWF2liaVM",
        "colab_type": "text"
      },
      "source": [
        "* Lấy dữ liệu từ 2 file **onion_headlines.csv** và **huffpost_headlines.csv**, sau đó bỏ vào cùng DataFrame **df_Test**.\n",
        "\n",
        "\n"
      ]
    },
    {
      "cell_type": "code",
      "metadata": {
        "id": "DkEnZU5RGn6w",
        "colab_type": "code",
        "colab": {
          "base_uri": "https://localhost:8080/"
        },
        "outputId": "66710fa6-e67e-43e4-8a8a-41700ad69f70"
      },
      "source": [
        "# Load \n",
        "huffpost_df = pd.read_csv('./data_sarcasm/Test/huffpost_headlines.csv')\n",
        "\n",
        "# Load\n",
        "onion_df = pd.read_csv('./data_sarcasm/Test/onion_headlines.csv')\n",
        "\n",
        "# Join two dataframe\n",
        "df_Test = pd.concat([huffpost_df,onion_df],ignore_index=True)\n",
        "\n",
        "# Drop duplicate row\n",
        "df_Test.drop_duplicates(ignore_index=True)\n",
        "\n",
        "# View top df_Test\n",
        "df_Test.head()"
      ],
      "execution_count": null,
      "outputs": [
        {
          "output_type": "execute_result",
          "data": {
            "text/html": [
              "<div>\n",
              "<style scoped>\n",
              "    .dataframe tbody tr th:only-of-type {\n",
              "        vertical-align: middle;\n",
              "    }\n",
              "\n",
              "    .dataframe tbody tr th {\n",
              "        vertical-align: top;\n",
              "    }\n",
              "\n",
              "    .dataframe thead th {\n",
              "        text-align: right;\n",
              "    }\n",
              "</style>\n",
              "<table border=\"1\" class=\"dataframe\">\n",
              "  <thead>\n",
              "    <tr style=\"text-align: right;\">\n",
              "      <th></th>\n",
              "      <th>is_sarcastic</th>\n",
              "      <th>headline</th>\n",
              "    </tr>\n",
              "  </thead>\n",
              "  <tbody>\n",
              "    <tr>\n",
              "      <th>0</th>\n",
              "      <td>0</td>\n",
              "      <td>2 Lawyers Of Color Face 45-Year Sentences — Fo...</td>\n",
              "    </tr>\n",
              "    <tr>\n",
              "      <th>1</th>\n",
              "      <td>0</td>\n",
              "      <td>Tulsa Rally Failure May Spark Trump Campaign T...</td>\n",
              "    </tr>\n",
              "    <tr>\n",
              "      <th>2</th>\n",
              "      <td>0</td>\n",
              "      <td>Coronavirus Live Updates: COVID-19 Cases Near ...</td>\n",
              "    </tr>\n",
              "    <tr>\n",
              "      <th>3</th>\n",
              "      <td>0</td>\n",
              "      <td>Trump Baselessly Claims 2020 Election Is 'RIGG...</td>\n",
              "    </tr>\n",
              "    <tr>\n",
              "      <th>4</th>\n",
              "      <td>0</td>\n",
              "      <td>Size Matters: Never-Trump GOP Group Dumps On P...</td>\n",
              "    </tr>\n",
              "  </tbody>\n",
              "</table>\n",
              "</div>"
            ],
            "text/plain": [
              "   is_sarcastic                                           headline\n",
              "0             0  2 Lawyers Of Color Face 45-Year Sentences — Fo...\n",
              "1             0  Tulsa Rally Failure May Spark Trump Campaign T...\n",
              "2             0  Coronavirus Live Updates: COVID-19 Cases Near ...\n",
              "3             0  Trump Baselessly Claims 2020 Election Is 'RIGG...\n",
              "4             0  Size Matters: Never-Trump GOP Group Dumps On P..."
            ]
          },
          "metadata": {
            "tags": []
          },
          "execution_count": 12
        }
      ]
    },
    {
      "cell_type": "code",
      "metadata": {
        "id": "d8pFfX1C1PoJ",
        "colab_type": "code",
        "colab": {}
      },
      "source": [
        "# Assigning\n",
        "X_test_pre = df_Test['headline']\n",
        "y_test = df_Test['is_sarcastic'].to_numpy()\n"
      ],
      "execution_count": null,
      "outputs": []
    },
    {
      "cell_type": "markdown",
      "metadata": {
        "id": "H17bW_NOS_h0",
        "colab_type": "text"
      },
      "source": [
        "##**3. Trực quan hóa dữ liệu và Tiền xử lý dữ liệu:**"
      ]
    },
    {
      "cell_type": "markdown",
      "metadata": {
        "id": "poZn3blvs2ZL",
        "colab_type": "text"
      },
      "source": [
        "###**3.1 Trực quan hóa dữ liệu:**\n"
      ]
    },
    {
      "cell_type": "markdown",
      "metadata": {
        "id": "mWMZhNNLtezp",
        "colab_type": "text"
      },
      "source": [
        "* Theo hình thu được thì tập **Training set** có số lượng **is_sarcasm = 1** gần bằng số lượng **is_sarcasm = 0**, cho nên tạo thuận lợi cho việc train dữ liệu.\n",
        "* Đối với **Test Set** thì có sự chênh lệch khá nhiều giữa **is_sarcasm = 1** và **is_sarcasm = 0**.\n"
      ]
    },
    {
      "cell_type": "code",
      "metadata": {
        "id": "dHv4tke9S9xb",
        "colab_type": "code",
        "colab": {
          "base_uri": "https://localhost:8080/"
        },
        "outputId": "3de91b5a-9b73-4e1e-a181-b95642aeb497"
      },
      "source": [
        "%matplotlib inline\n",
        "sns.set_style(\"darkgrid\")\n",
        "fig, axes = plt.subplots(1,2,figsize=(10,5))\n",
        "sns.countplot(df_Train.is_sarcastic,ax=axes[0]).set_title('Training Set')\n",
        "sns.countplot(df_Test.is_sarcastic,ax=axes[1]).set_title('Test Set')"
      ],
      "execution_count": null,
      "outputs": [
        {
          "output_type": "execute_result",
          "data": {
            "text/plain": [
              "Text(0.5, 1.0, 'Test Set')"
            ]
          },
          "metadata": {
            "tags": []
          },
          "execution_count": 14
        },
        {
          "output_type": "display_data",
          "data": {
            "image/png": "[encoded data removed]",
            "text/plain": [
              "<Figure size 720x360 with 2 Axes>"
            ]
          },
          "metadata": {
            "tags": []
          }
        }
      ]
    },
    {
      "cell_type": "markdown",
      "metadata": {
        "id": "BotVXj9my_BW",
        "colab_type": "text"
      },
      "source": [
        "###**3.2 Tiền xử lí dữ liệu:**\n"
      ]
    },
    {
      "cell_type": "markdown",
      "metadata": {
        "id": "3O1ONwQ5U-qu",
        "colab_type": "text"
      },
      "source": [
        "####**3.2.1 Kiểm tra có giá trị NaN?**"
      ]
    },
    {
      "cell_type": "code",
      "metadata": {
        "id": "nEgm1uegVMl0",
        "colab_type": "code",
        "colab": {
          "base_uri": "https://localhost:8080/"
        },
        "outputId": "aa8137c1-ee1a-4b92-dc5e-dfbb9c6fe7b3"
      },
      "source": [
        "# checking for df_Train\n",
        "df_Train.isna().sum() # -> no Nan value"
      ],
      "execution_count": null,
      "outputs": [
        {
          "output_type": "execute_result",
          "data": {
            "text/plain": [
              "is_sarcastic    0\n",
              "headline        0\n",
              "article_link    0\n",
              "dtype: int64"
            ]
          },
          "metadata": {
            "tags": []
          },
          "execution_count": 15
        }
      ]
    },
    {
      "cell_type": "code",
      "metadata": {
        "id": "FtFn0-13z4Su",
        "colab_type": "code",
        "colab": {
          "base_uri": "https://localhost:8080/"
        },
        "outputId": "f3afbf3c-4637-494c-9e9d-fa2e13386969"
      },
      "source": [
        "# checking for df_Test\n",
        "df_Test.isna().sum() # -> no Nan value"
      ],
      "execution_count": null,
      "outputs": [
        {
          "output_type": "execute_result",
          "data": {
            "text/plain": [
              "is_sarcastic    0\n",
              "headline        0\n",
              "dtype: int64"
            ]
          },
          "metadata": {
            "tags": []
          },
          "execution_count": 16
        }
      ]
    },
    {
      "cell_type": "markdown",
      "metadata": {
        "id": "QYbBpNe2j27R",
        "colab_type": "text"
      },
      "source": [
        "####**3.2.2 Làm sạch dữ liệu:**"
      ]
    },
    {
      "cell_type": "markdown",
      "metadata": {
        "id": "orZchdNer7b3",
        "colab_type": "text"
      },
      "source": [
        " *  Vì dữ liệu là text nên có các kí tự đặc biệt nên cần được phân tách và loại bỏ. \n"
      ]
    },
    {
      "cell_type": "code",
      "metadata": {
        "id": "DwzBV4nVkyBS",
        "colab_type": "code",
        "colab": {
          "base_uri": "https://localhost:8080/"
        },
        "outputId": "af352d68-d4e3-4261-e398-81a0ae339aa2"
      },
      "source": [
        "import re,string\n",
        "import nltk\n",
        "nltk.download('stopwords')\n",
        "nltk.download('wordnet')\n",
        "nltk.download('punkt')\n",
        "from nltk.corpus import stopwords\n",
        "from nltk.tokenize import word_tokenize\n",
        "from nltk.stem import WordNetLemmatizer "
      ],
      "execution_count": null,
      "outputs": [
        {
          "output_type": "stream",
          "text": [
            "[nltk_data] Downloading package stopwords to /root/nltk_data...\n",
            "[nltk_data]   Unzipping corpora/stopwords.zip.\n",
            "[nltk_data] Downloading package wordnet to /root/nltk_data...\n",
            "[nltk_data]   Unzipping corpora/wordnet.zip.\n",
            "[nltk_data] Downloading package punkt to /root/nltk_data...\n",
            "[nltk_data]   Unzipping tokenizers/punkt.zip.\n"
          ],
          "name": "stdout"
        }
      ]
    },
    {
      "cell_type": "code",
      "metadata": {
        "id": "y-LFECSR3qoX",
        "colab_type": "code",
        "colab": {}
      },
      "source": [
        "stopw = set(stopwords.words('english'))\n",
        "punctuation = list(string.punctuation)\n",
        "stopw.update(punctuation)"
      ],
      "execution_count": null,
      "outputs": []
    },
    {
      "cell_type": "markdown",
      "metadata": {
        "id": "zUuhSmE9sqkm",
        "colab_type": "text"
      },
      "source": [
        "* **Một số hàm để xử lý dữ liệu text:**\n"
      ]
    },
    {
      "cell_type": "code",
      "metadata": {
        "id": "dYTc_x71uTzZ",
        "colab_type": "code",
        "colab": {}
      },
      "source": [
        "#Removing the header html\n",
        "def strip_html(text):\n",
        "    soup = BeautifulSoup(text, \"html.parser\")\n",
        "    return soup.get_text()"
      ],
      "execution_count": null,
      "outputs": []
    },
    {
      "cell_type": "code",
      "metadata": {
        "id": "o4wGDO1Tu841",
        "colab_type": "code",
        "colab": {}
      },
      "source": [
        "#Removing the square brackets\n",
        "def remove_between_square_brackets(text):\n",
        "    return re.sub(\"\\[[^]]*\\]\", '', text)"
      ],
      "execution_count": null,
      "outputs": []
    },
    {
      "cell_type": "code",
      "metadata": {
        "id": "vxe_V6-JvDWt",
        "colab_type": "code",
        "colab": {}
      },
      "source": [
        "# Removing URL's\n",
        "def remove_URL(text):\n",
        "    return re.sub(r'http\\S+', '', text)"
      ],
      "execution_count": null,
      "outputs": []
    },
    {
      "cell_type": "code",
      "metadata": {
        "id": "uSowLeZovIfo",
        "colab_type": "code",
        "colab": {}
      },
      "source": [
        "#Removing the stopwords from text\n",
        "def remove_stopwords(text):\n",
        "    final_text = []\n",
        "    word_list = word_tokenize(text)\n",
        "    for txt in word_list:\n",
        "        if txt.strip().lower() not in stopw:\n",
        "            final_text.append(txt.strip())\n",
        "    return \" \".join(final_text)\n"
      ],
      "execution_count": null,
      "outputs": []
    },
    {
      "cell_type": "code",
      "metadata": {
        "id": "SJTJFtuzw0XU",
        "colab_type": "code",
        "colab": {}
      },
      "source": [
        "#Removing the punctuation\n",
        "def remove_punctuation(text):\n",
        "    symbols = '!\\\"#$%&()*+-./:;<=>?@[\\]^_`{|}~\\n'\n",
        "    word_list = word_tokenize(text)\n",
        "    final_text = []\n",
        "    for word in word_list:\n",
        "        for w in word:\n",
        "            if w in symbols:\n",
        "                word = word.replace(w,\" \")\n",
        "        word = word.strip()\n",
        "        if len(word) > 0:\n",
        "            final_text.append(word)\n",
        "    return ' '.join(final_text)"
      ],
      "execution_count": null,
      "outputs": []
    },
    {
      "cell_type": "code",
      "metadata": {
        "id": "21EKsG6svLTN",
        "colab_type": "code",
        "colab": {}
      },
      "source": [
        "#Removing Single Characters\n",
        "def remove_single_characters(text):\n",
        "    final_text = []\n",
        "    word_list = word_tokenize(text)\n",
        "    for word in word_list:\n",
        "        if len(word) > 1 or word.isdigit():\n",
        "            final_text.append(word)\n",
        "    return ' '.join(final_text)"
      ],
      "execution_count": null,
      "outputs": []
    },
    {
      "cell_type": "code",
      "metadata": {
        "id": "20kxzWhLzDXe",
        "colab_type": "code",
        "colab": {}
      },
      "source": [
        "# removing Apostrophe\n",
        "def remove_apostrophe(text):\n",
        "    return re.sub(\"'\",'',text)\n"
      ],
      "execution_count": null,
      "outputs": []
    },
    {
      "cell_type": "code",
      "metadata": {
        "id": "WYrAOm4m0KR_",
        "colab_type": "code",
        "colab": {}
      },
      "source": [
        "# Lemmatisation\n",
        "def Lemmatisation(text):\n",
        "    lemmatizer = WordNetLemmatizer()\n",
        "    word_list = word_tokenize(text)\n",
        "    return ' '.join([lemmatizer.lemmatize(w) for w in word_list])"
      ],
      "execution_count": null,
      "outputs": []
    },
    {
      "cell_type": "code",
      "metadata": {
        "id": "hETcM6F4V96j",
        "colab_type": "code",
        "colab": {}
      },
      "source": [
        "# clean data\n",
        "def clean_data(text):\n",
        "    text = text.lower().strip()\n",
        "    text = strip_html(text)\n",
        "    text = remove_URL(text)\n",
        "    text = remove_between_square_brackets(text)\n",
        "    text = remove_punctuation(text)\n",
        "    text = remove_apostrophe(text)\n",
        "    text = remove_single_characters(text)\n",
        "    text = remove_stopwords(text)\n",
        "    text = Lemmatisation(text)\n",
        "    text = remove_single_characters(text)\n",
        "    return text"
      ],
      "execution_count": null,
      "outputs": []
    },
    {
      "cell_type": "markdown",
      "metadata": {
        "id": "GpjblYmF9GvH",
        "colab_type": "text"
      },
      "source": [
        "* **Áp dụng hàm clean data để làm sạch dữ liệu:**\n"
      ]
    },
    {
      "cell_type": "code",
      "metadata": {
        "id": "5nj8EglUpLWK",
        "colab_type": "code",
        "colab": {}
      },
      "source": [
        "# Apply for X_train_pre\n",
        "X_train_pre = X_train_pre.apply(clean_data)\n",
        "# Apply for X_test\n",
        "X_test_pre = X_test_pre.apply(clean_data)"
      ],
      "execution_count": null,
      "outputs": []
    },
    {
      "cell_type": "markdown",
      "metadata": {
        "id": "bsGHn1Z5_nV-",
        "colab_type": "text"
      },
      "source": [
        "* **Test thử 10 dữ liệu đầu tiên có được làm sạch theo đúng chuẩn hay không?**\n"
      ]
    },
    {
      "cell_type": "code",
      "metadata": {
        "id": "h4ok9DOf-QTJ",
        "colab_type": "code",
        "colab": {
          "base_uri": "https://localhost:8080/"
        },
        "outputId": "d919a9f5-3d01-4c1b-e4b6-a4fe5e7666fb"
      },
      "source": [
        "print('X_train:')\n",
        "for i in range(10):\n",
        "    print('- loop {}-th\\n{}\\n{}\\n'.format(i,df_Train['headline'].loc[i],X_train_pre.loc[i]))"
      ],
      "execution_count": null,
      "outputs": [
        {
          "output_type": "stream",
          "text": [
            "X_train:\n",
            "- loop 0-th\n",
            "thirtysomething scientists unveil doomsday clock of hair loss\n",
            "thirtysomething scientist unveil doomsday clock hair loss\n",
            "\n",
            "- loop 1-th\n",
            "dem rep. totally nails why congress is falling short on gender, racial equality\n",
            "dem rep totally nail congress falling short gender racial equality\n",
            "\n",
            "- loop 2-th\n",
            "eat your veggies: 9 deliciously different recipes\n",
            "eat veggie 9 deliciously different recipe\n",
            "\n",
            "- loop 3-th\n",
            "inclement weather prevents liar from getting to work\n",
            "inclement weather prevents liar getting work\n",
            "\n",
            "- loop 4-th\n",
            "mother comes pretty close to using word 'streaming' correctly\n",
            "mother come pretty close using word streaming correctly\n",
            "\n",
            "- loop 5-th\n",
            "my white inheritance\n",
            "white inheritance\n",
            "\n",
            "- loop 6-th\n",
            "5 ways to file your taxes with less stress\n",
            "5 way file tax le stress\n",
            "\n",
            "- loop 7-th\n",
            "richard branson's global-warming donation nearly as much as cost of failed balloon trips\n",
            "richard branson global warming donation nearly much cost failed balloon trip\n",
            "\n",
            "- loop 8-th\n",
            "shadow government getting too large to meet in marriott conference room b\n",
            "shadow government getting large meet marriott conference room\n",
            "\n",
            "- loop 9-th\n",
            "lots of parents know this scenario\n",
            "lot parent know scenario\n",
            "\n"
          ],
          "name": "stdout"
        }
      ]
    },
    {
      "cell_type": "markdown",
      "metadata": {
        "id": "dt8p7TUEoiEF",
        "colab_type": "text"
      },
      "source": [
        "##**4. Feature engineering cho bộ dữ liệu:**"
      ]
    },
    {
      "cell_type": "code",
      "metadata": {
        "id": "LpFGIu2io3G5",
        "colab_type": "code",
        "colab": {}
      },
      "source": [
        "from sklearn.feature_extraction.text import TfidfVectorizer\n",
        "\n",
        "Tvec_train = TfidfVectorizer(ngram_range=(1,2),max_features=80000)\n",
        "\n",
        "# transform words to vetor\n",
        "X_train = Tvec_train.fit_transform(X_train_pre.values)\n",
        "\n",
        "Tvec_test = TfidfVectorizer(vocabulary=Tvec_train.vocabulary_,ngram_range=(1,2),max_features=80000)\n",
        "X_test = Tvec_test.fit_transform(X_test_pre.values)"
      ],
      "execution_count": null,
      "outputs": []
    },
    {
      "cell_type": "markdown",
      "metadata": {
        "id": "IVoXUmMRpSPM",
        "colab_type": "text"
      },
      "source": [
        "##**5. Huấn luyện và thử nghiệm  mô hình:**"
      ]
    },
    {
      "cell_type": "markdown",
      "metadata": {
        "id": "Eb-IcaFGHpkt",
        "colab_type": "text"
      },
      "source": [
        "#### **5.1 StratifiedKFold Cross Validation:**\n",
        "\n"
      ]
    },
    {
      "cell_type": "markdown",
      "metadata": {
        "id": "t7OymCx4LHp1",
        "colab_type": "text"
      },
      "source": [
        ""
      ]
    },
    {
      "cell_type": "markdown",
      "metadata": {
        "id": "pGtWocn6LLe1",
        "colab_type": "text"
      },
      "source": [
        "#### **5.2 Thử nghiệm các mô hình khác nhau:**"
      ]
    },
    {
      "cell_type": "markdown",
      "metadata": {
        "id": "K_74MU2qMICZ",
        "colab_type": "text"
      },
      "source": [
        "**Các mô hình thử nghiệm:**\n",
        "*  **LogisticRegression**\n",
        "*  **Linear SVM**\n",
        "*  **Random Forest** \n",
        "*  **Gaussian Naive Bayes (GaussianNB)**"
      ]
    },
    {
      "cell_type": "code",
      "metadata": {
        "id": "GQXTBmMCjz7n",
        "colab_type": "code",
        "colab": {}
      },
      "source": [
        "from sklearn.linear_model import LogisticRegression\n",
        "from sklearn.svm import LinearSVC,SVC\n",
        "from sklearn.tree import DecisionTreeClassifier\n",
        "from sklearn.model_selection import StratifiedKFold\n",
        "from sklearn.neighbors import KNeighborsClassifier"
      ],
      "execution_count": null,
      "outputs": []
    },
    {
      "cell_type": "code",
      "metadata": {
        "id": "JYPbqoHDOxDi",
        "colab_type": "code",
        "colab": {}
      },
      "source": [
        "models = []\n",
        "models.append(LogisticRegression(solver='liblinear', multi_class='ovr'))\n",
        "models.append(LinearSVC())\n",
        "models.append(KNeighborsClassifier())\n",
        "models.append(DecisionTreeClassifier())\n"
      ],
      "execution_count": null,
      "outputs": []
    },
    {
      "cell_type": "code",
      "metadata": {
        "id": "pBl3jzxDPZaq",
        "colab_type": "code",
        "colab": {
          "base_uri": "https://localhost:8080/",
          "height": 437
        },
        "outputId": "bc9c7e87-7cb9-4d5a-f534-a67ca14d4060"
      },
      "source": [
        "# evaluate each model in turn\n",
        "results = [[] for _ in range(len(models))]\n",
        "names = ['' for _ in range(len(models))]\n",
        "\n",
        "skf = StratifiedKFold(n_splits=10, shuffle=True, random_state=1)\n",
        "for train_idx, val_idx in skf.split(X_train_pre,y_train):\n",
        "\tX_train_fold, X_val_fold = X_train_pre[train_idx], X_train_pre[val_idx]\n",
        "\ty_train_fold, y_val_fold = y_train[train_idx], y_train[val_idx]\n",
        "\t\n",
        "\tTvec1 = TfidfVectorizer(ngram_range=(1,2),max_features=80000)\n",
        "\t# transform words to vetor\n",
        "\tX_train_fold = Tvec1.fit_transform(X_train_fold)\n",
        "\t\n",
        "\tTvec2 = TfidfVectorizer(vocabulary=Tvec1.vocabulary_,ngram_range=(1,2),max_features=80000)\n",
        "\tX_val_fold = Tvec2.fit_transform(X_val_fold)\n",
        "\tfor i in range(len(models)):\n",
        "\t\tmodel = models[i]\n",
        "\t\tmodel.fit(X_train_fold, y_train_fold)\n",
        "\t\ty_pred = model.predict(X_val_fold)\n",
        "\t\tscore = accuracy_score(y_val_fold, y_pred)\n",
        "\t\tresults[i].append(score)\n",
        "\t\tnames[i] = model.__class__.__name__\n"
      ],
      "execution_count": null,
      "outputs": [
        {
          "output_type": "error",
          "ename": "KeyboardInterrupt",
          "evalue": "ignored",
          "traceback": [
            "\u001b[0;31m---------------------------------------------------------------------------\u001b[0m",
            "\u001b[0;31mKeyboardInterrupt\u001b[0m                         Traceback (most recent call last)",
            "\u001b[0;32m<ipython-input-43-bd69374a1268>\u001b[0m in \u001b[0;36m<module>\u001b[0;34m()\u001b[0m\n\u001b[1;32m     16\u001b[0m         \u001b[0;32mfor\u001b[0m \u001b[0mi\u001b[0m \u001b[0;32min\u001b[0m \u001b[0mrange\u001b[0m\u001b[0;34m(\u001b[0m\u001b[0mlen\u001b[0m\u001b[0;34m(\u001b[0m\u001b[0mmodels\u001b[0m\u001b[0;34m)\u001b[0m\u001b[0;34m)\u001b[0m\u001b[0;34m:\u001b[0m\u001b[0;34m\u001b[0m\u001b[0;34m\u001b[0m\u001b[0m\n\u001b[1;32m     17\u001b[0m                 \u001b[0mmodel\u001b[0m \u001b[0;34m=\u001b[0m \u001b[0mmodels\u001b[0m\u001b[0;34m[\u001b[0m\u001b[0mi\u001b[0m\u001b[0;34m]\u001b[0m\u001b[0;34m\u001b[0m\u001b[0;34m\u001b[0m\u001b[0m\n\u001b[0;32m---> 18\u001b[0;31m                 \u001b[0mmodel\u001b[0m\u001b[0;34m.\u001b[0m\u001b[0mfit\u001b[0m\u001b[0;34m(\u001b[0m\u001b[0mX_train_fold\u001b[0m\u001b[0;34m,\u001b[0m \u001b[0my_train_fold\u001b[0m\u001b[0;34m)\u001b[0m\u001b[0;34m\u001b[0m\u001b[0;34m\u001b[0m\u001b[0m\n\u001b[0m\u001b[1;32m     19\u001b[0m                 \u001b[0my_pred\u001b[0m \u001b[0;34m=\u001b[0m \u001b[0mmodel\u001b[0m\u001b[0;34m.\u001b[0m\u001b[0mpredict\u001b[0m\u001b[0;34m(\u001b[0m\u001b[0mX_val_fold\u001b[0m\u001b[0;34m)\u001b[0m\u001b[0;34m\u001b[0m\u001b[0;34m\u001b[0m\u001b[0m\n\u001b[1;32m     20\u001b[0m                 \u001b[0mscore\u001b[0m \u001b[0;34m=\u001b[0m \u001b[0maccuracy_score\u001b[0m\u001b[0;34m(\u001b[0m\u001b[0my_val_fold\u001b[0m\u001b[0;34m,\u001b[0m \u001b[0my_pred\u001b[0m\u001b[0;34m)\u001b[0m\u001b[0;34m\u001b[0m\u001b[0;34m\u001b[0m\u001b[0m\n",
            "\u001b[0;32m/usr/local/lib/python3.6/dist-packages/sklearn/svm/_base.py\u001b[0m in \u001b[0;36mfit\u001b[0;34m(self, X, y, sample_weight)\u001b[0m\n\u001b[1;32m    197\u001b[0m \u001b[0;34m\u001b[0m\u001b[0m\n\u001b[1;32m    198\u001b[0m         \u001b[0mseed\u001b[0m \u001b[0;34m=\u001b[0m \u001b[0mrnd\u001b[0m\u001b[0;34m.\u001b[0m\u001b[0mrandint\u001b[0m\u001b[0;34m(\u001b[0m\u001b[0mnp\u001b[0m\u001b[0;34m.\u001b[0m\u001b[0miinfo\u001b[0m\u001b[0;34m(\u001b[0m\u001b[0;34m'i'\u001b[0m\u001b[0;34m)\u001b[0m\u001b[0;34m.\u001b[0m\u001b[0mmax\u001b[0m\u001b[0;34m)\u001b[0m\u001b[0;34m\u001b[0m\u001b[0;34m\u001b[0m\u001b[0m\n\u001b[0;32m--> 199\u001b[0;31m         \u001b[0mfit\u001b[0m\u001b[0;34m(\u001b[0m\u001b[0mX\u001b[0m\u001b[0;34m,\u001b[0m \u001b[0my\u001b[0m\u001b[0;34m,\u001b[0m \u001b[0msample_weight\u001b[0m\u001b[0;34m,\u001b[0m \u001b[0msolver_type\u001b[0m\u001b[0;34m,\u001b[0m \u001b[0mkernel\u001b[0m\u001b[0;34m,\u001b[0m \u001b[0mrandom_seed\u001b[0m\u001b[0;34m=\u001b[0m\u001b[0mseed\u001b[0m\u001b[0;34m)\u001b[0m\u001b[0;34m\u001b[0m\u001b[0;34m\u001b[0m\u001b[0m\n\u001b[0m\u001b[1;32m    200\u001b[0m         \u001b[0;31m# see comment on the other call to np.iinfo in this file\u001b[0m\u001b[0;34m\u001b[0m\u001b[0;34m\u001b[0m\u001b[0;34m\u001b[0m\u001b[0m\n\u001b[1;32m    201\u001b[0m \u001b[0;34m\u001b[0m\u001b[0m\n",
            "\u001b[0;32m/usr/local/lib/python3.6/dist-packages/sklearn/svm/_base.py\u001b[0m in \u001b[0;36m_sparse_fit\u001b[0;34m(self, X, y, sample_weight, solver_type, kernel, random_seed)\u001b[0m\n\u001b[1;32m    278\u001b[0m                 \u001b[0msample_weight\u001b[0m\u001b[0;34m,\u001b[0m \u001b[0mself\u001b[0m\u001b[0;34m.\u001b[0m\u001b[0mnu\u001b[0m\u001b[0;34m,\u001b[0m \u001b[0mself\u001b[0m\u001b[0;34m.\u001b[0m\u001b[0mcache_size\u001b[0m\u001b[0;34m,\u001b[0m \u001b[0mself\u001b[0m\u001b[0;34m.\u001b[0m\u001b[0mepsilon\u001b[0m\u001b[0;34m,\u001b[0m\u001b[0;34m\u001b[0m\u001b[0;34m\u001b[0m\u001b[0m\n\u001b[1;32m    279\u001b[0m                 \u001b[0mint\u001b[0m\u001b[0;34m(\u001b[0m\u001b[0mself\u001b[0m\u001b[0;34m.\u001b[0m\u001b[0mshrinking\u001b[0m\u001b[0;34m)\u001b[0m\u001b[0;34m,\u001b[0m \u001b[0mint\u001b[0m\u001b[0;34m(\u001b[0m\u001b[0mself\u001b[0m\u001b[0;34m.\u001b[0m\u001b[0mprobability\u001b[0m\u001b[0;34m)\u001b[0m\u001b[0;34m,\u001b[0m \u001b[0mself\u001b[0m\u001b[0;34m.\u001b[0m\u001b[0mmax_iter\u001b[0m\u001b[0;34m,\u001b[0m\u001b[0;34m\u001b[0m\u001b[0;34m\u001b[0m\u001b[0m\n\u001b[0;32m--> 280\u001b[0;31m                 random_seed)\n\u001b[0m\u001b[1;32m    281\u001b[0m \u001b[0;34m\u001b[0m\u001b[0m\n\u001b[1;32m    282\u001b[0m         \u001b[0mself\u001b[0m\u001b[0;34m.\u001b[0m\u001b[0m_warn_from_fit_status\u001b[0m\u001b[0;34m(\u001b[0m\u001b[0;34m)\u001b[0m\u001b[0;34m\u001b[0m\u001b[0;34m\u001b[0m\u001b[0m\n",
            "\u001b[0;32msklearn/svm/_libsvm_sparse.pyx\u001b[0m in \u001b[0;36msklearn.svm._libsvm_sparse.libsvm_sparse_train\u001b[0;34m()\u001b[0m\n",
            "\u001b[0;32m/usr/local/lib/python3.6/dist-packages/scipy/sparse/compressed.py\u001b[0m in \u001b[0;36m__init__\u001b[0;34m(self, arg1, shape, dtype, copy)\u001b[0m\n\u001b[1;32m     28\u001b[0m     \u001b[0;34m\"\"\"base matrix class for compressed row and column oriented matrices\"\"\"\u001b[0m\u001b[0;34m\u001b[0m\u001b[0;34m\u001b[0m\u001b[0m\n\u001b[1;32m     29\u001b[0m \u001b[0;34m\u001b[0m\u001b[0m\n\u001b[0;32m---> 30\u001b[0;31m     \u001b[0;32mdef\u001b[0m \u001b[0m__init__\u001b[0m\u001b[0;34m(\u001b[0m\u001b[0mself\u001b[0m\u001b[0;34m,\u001b[0m \u001b[0marg1\u001b[0m\u001b[0;34m,\u001b[0m \u001b[0mshape\u001b[0m\u001b[0;34m=\u001b[0m\u001b[0;32mNone\u001b[0m\u001b[0;34m,\u001b[0m \u001b[0mdtype\u001b[0m\u001b[0;34m=\u001b[0m\u001b[0;32mNone\u001b[0m\u001b[0;34m,\u001b[0m \u001b[0mcopy\u001b[0m\u001b[0;34m=\u001b[0m\u001b[0;32mFalse\u001b[0m\u001b[0;34m)\u001b[0m\u001b[0;34m:\u001b[0m\u001b[0;34m\u001b[0m\u001b[0;34m\u001b[0m\u001b[0m\n\u001b[0m\u001b[1;32m     31\u001b[0m         \u001b[0m_data_matrix\u001b[0m\u001b[0;34m.\u001b[0m\u001b[0m__init__\u001b[0m\u001b[0;34m(\u001b[0m\u001b[0mself\u001b[0m\u001b[0;34m)\u001b[0m\u001b[0;34m\u001b[0m\u001b[0;34m\u001b[0m\u001b[0m\n\u001b[1;32m     32\u001b[0m \u001b[0;34m\u001b[0m\u001b[0m\n",
            "\u001b[0;31mKeyboardInterrupt\u001b[0m: "
          ]
        }
      ]
    },
    {
      "cell_type": "code",
      "metadata": {
        "id": "0NTPo_eS51qH",
        "colab_type": "code",
        "colab": {
          "base_uri": "https://localhost:8080/",
          "height": 55
        },
        "outputId": "fbbbd8d8-23b7-416c-e52f-ace4bf1f3bb0"
      },
      "source": [
        "print(results)"
      ],
      "execution_count": null,
      "outputs": [
        {
          "output_type": "stream",
          "text": [
            "[[0.8673414061088017, 0.863545996746792, 0.868064341225375, 0.8678836074462317, 0.8704138803542382, 0.8655340683173686, 0.8673414061088017, 0.8677028736670884, 0.8674981923355025, 0.8705712219812003], [0.9502982107355865, 0.9508404120730164, 0.9486716067232965, 0.9569853605638894, 0.9488523405024399, 0.9519248147478764, 0.9526477498644497, 0.9502982107355865, 0.9531814895155459, 0.9520968908170644], [0.7093800831375384, 0.7050424724380987, 0.5613591180191578, 0.7379360202421833, 0.7325140068678836, 0.742273630941623, 0.7140791613952647, 0.7401048255919032, 0.7069775849602313, 0.7100506146059291], [0.9179468642689319, 0.9342129043918308, 0.9282486896801012, 0.9239110789806615, 0.9188505331646485, 0.9172239291523586, 0.9222844749683716, 0.9206578709560816, 0.9139551699204628, 0.9251626898047722]]\n"
          ],
          "name": "stdout"
        }
      ]
    },
    {
      "cell_type": "code",
      "metadata": {
        "id": "LWHwmVPCU71a",
        "colab_type": "code",
        "colab": {
          "base_uri": "https://localhost:8080/",
          "height": 336
        },
        "outputId": "910c9412-176b-4ec2-b9f4-f8fabe9e5d3e"
      },
      "source": [
        "plt.figure(figsize=(10,5))\n",
        "plt.boxplot(results,labels=names)\n",
        "plt.title('Algorithm Comparison')\n",
        "plt.show()"
      ],
      "execution_count": null,
      "outputs": [
        {
          "output_type": "display_data",
          "data": {
            "image/png": "[encoded data removed]",
            "text/plain": [
              "<Figure size 720x360 with 1 Axes>"
            ]
          },
          "metadata": {
            "tags": []
          }
        }
      ]
    },
    {
      "cell_type": "code",
      "metadata": {
        "id": "tElY8jaaYoje",
        "colab_type": "code",
        "colab": {}
      },
      "source": [
        "results_mean = np.array(results).mean(axis=1)"
      ],
      "execution_count": null,
      "outputs": []
    },
    {
      "cell_type": "code",
      "metadata": {
        "id": "3KzwhLG5ZEWc",
        "colab_type": "code",
        "colab": {
          "base_uri": "https://localhost:8080/",
          "height": 90
        },
        "outputId": "c0e9a05c-e2e8-4448-ef23-271faa18459e"
      },
      "source": [
        "for i in range(len(models)):\n",
        "    print('{}: {}'.format(models[i].__class__.__name__,results_mean[i]))"
      ],
      "execution_count": null,
      "outputs": [
        {
          "output_type": "stream",
          "text": [
            "LogisticRegression: 0.8675896994291401\n",
            "LinearSVC: 0.951579708627875\n",
            "KNeighborsClassifier: 0.7059717518199813\n",
            "DecisionTreeClassifier: 0.9222454205288221\n"
          ],
          "name": "stdout"
        }
      ]
    },
    {
      "cell_type": "markdown",
      "metadata": {
        "id": "eP8CTEEadcgA",
        "colab_type": "text"
      },
      "source": [
        ""
      ]
    },
    {
      "cell_type": "code",
      "metadata": {
        "id": "DzGk8EM0ddOl",
        "colab_type": "code",
        "colab": {
          "base_uri": "https://localhost:8080/",
          "height": 293
        },
        "outputId": "e0628c6c-6913-489e-b0a1-4a3af0444f93"
      },
      "source": [
        "#Grid Search\n",
        "from sklearn.model_selection import GridSearchCV\n",
        "\n",
        "C_range = np.array([0.01,0.03,0.1,0.2,0.3,0.5,0.7,1,2,5,10])\n",
        "dual_grid = ('True','False')\n",
        "multi_class_grid = ('ovr', 'crammer_singer')\n",
        "class_weight_grid = ('balanced', 'None')\n",
        "param_grid = dict(C=C_range,dual=dual_grid,multi_class=multi_class_grid,class_weight=class_weight_grid)\n",
        "\n",
        "skf = StratifiedKFold(n_splits=10, shuffle=True, random_state=1)\n",
        "grid = GridSearchCV(LinearSVC(), param_grid=param_grid, cv=skf,scoring='f1_macro',n_jobs=-1)\n",
        "grid.fit(X_train,y_train)\n"
      ],
      "execution_count": null,
      "outputs": [
        {
          "output_type": "execute_result",
          "data": {
            "text/plain": [
              "GridSearchCV(cv=StratifiedKFold(n_splits=10, random_state=1, shuffle=True),\n",
              "             error_score=nan,\n",
              "             estimator=LinearSVC(C=1.0, class_weight=None, dual=True,\n",
              "                                 fit_intercept=True, intercept_scaling=1,\n",
              "                                 loss='squared_hinge', max_iter=1000,\n",
              "                                 multi_class='ovr', penalty='l2',\n",
              "                                 random_state=None, tol=0.0001, verbose=0),\n",
              "             iid='deprecated', n_jobs=-1,\n",
              "             param_grid={'C': array([ 0.01,  0.03,  0.1 ,  0.2 ,  0.3 ,  0.5 ,  0.7 ,  1.  ,  2.  ,\n",
              "        5.  , 10.  ]),\n",
              "                         'class_weight': ('balanced', 'None'),\n",
              "                         'dual': ('True', 'False'),\n",
              "                         'multi_class': ('ovr', 'crammer_singer')},\n",
              "             pre_dispatch='2*n_jobs', refit=True, return_train_score=False,\n",
              "             scoring='f1_macro', verbose=0)"
            ]
          },
          "metadata": {
            "tags": []
          },
          "execution_count": 56
        }
      ]
    },
    {
      "cell_type": "code",
      "metadata": {
        "id": "q823QLe6mGpZ",
        "colab_type": "code",
        "colab": {
          "base_uri": "https://localhost:8080/",
          "height": 35
        },
        "outputId": "1005f98c-1548-4990-d924-7011420727c0"
      },
      "source": [
        "print(grid.best_score_)"
      ],
      "execution_count": null,
      "outputs": [
        {
          "output_type": "stream",
          "text": [
            "0.9732359379355534\n"
          ],
          "name": "stdout"
        }
      ]
    },
    {
      "cell_type": "markdown",
      "metadata": {
        "id": "08wRPt3NWSdl",
        "colab_type": "text"
      },
      "source": [
        "**Chọn model LinearSVM vì có score cao nhất**\n",
        "\n",
        "\n"
      ]
    },
    {
      "cell_type": "markdown",
      "metadata": {
        "id": "26lr4NsotgH_",
        "colab_type": "text"
      },
      "source": [
        "## **6. Dự đoán đoạn text:**\n"
      ]
    },
    {
      "cell_type": "code",
      "metadata": {
        "id": "vlz-yaM1u_4o",
        "colab_type": "code",
        "colab": {}
      },
      "source": [
        "def predict_text(text):\n",
        "    text = clean_data(text)\n",
        "    Tvec_text = TfidfVectorizer(vocabulary=Tvec_train.vocabulary_,ngram_range=(1,2),max_features=80000)\n",
        "    X_text = Tvec_text.fit_transform([text])\n",
        "    lsvc = LinearSVC()\n",
        "    lsvc.fit(X_train,y_train)\n",
        "    return 'is sarcasm' if lsvc.predict(X_text) == 1 else 'not sarcasm'\n"
      ],
      "execution_count": null,
      "outputs": []
    },
    {
      "cell_type": "code",
      "metadata": {
        "id": "CkAZveBUHaEd",
        "colab_type": "code",
        "colab": {
          "base_uri": "https://localhost:8080/",
          "height": 54
        },
        "outputId": "40fea945-0c4a-4265-e281-5f36f67c1575"
      },
      "source": [
        "text = input()\n",
        "print(predict_text(text))"
      ],
      "execution_count": null,
      "outputs": [
        {
          "output_type": "stream",
          "text": [
            "khang \n",
            "not sarcasm\n"
          ],
          "name": "stdout"
        }
      ]
    },
    {
      "cell_type": "markdown",
      "metadata": {
        "id": "nsPL8EMVZ1av",
        "colab_type": "text"
      },
      "source": [
        "## **7. Dự đoán kết quả với tập test:**\n"
      ]
    },
    {
      "cell_type": "code",
      "metadata": {
        "id": "CV3npnlIaFDF",
        "colab_type": "code",
        "colab": {
          "base_uri": "https://localhost:8080/",
          "height": 35
        },
        "outputId": "f74c7e20-49f6-4cb0-f052-c30f74c6b739"
      },
      "source": [
        "# Using linear support vector classifier\n",
        "best_model = grid.best_estimator_\n",
        "# training the model\n",
        "#best_model.fit(X_train,y_train)\n",
        "# getting the score of train and test data\n",
        "print(best_model.score(X_test, y_test))   "
      ],
      "execution_count": null,
      "outputs": [
        {
          "output_type": "stream",
          "text": [
            "0.7815\n"
          ],
          "name": "stdout"
        }
      ]
    }
  ]
}