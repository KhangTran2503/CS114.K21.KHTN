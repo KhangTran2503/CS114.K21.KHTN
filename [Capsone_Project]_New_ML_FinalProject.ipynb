{
  "nbformat": 4,
  "nbformat_minor": 0,
  "metadata": {
    "colab": {
      "name": "[Capsone Project] New_ML_FinalProject.ipynb",
      "provenance": [],
      "authorship_tag": "ABX9TyNGILWKWWAlxo/vFWzSenNa",
      "include_colab_link": true
    },
    "kernelspec": {
      "name": "python3",
      "display_name": "Python 3"
    }
  },
  "cells": [
    {
      "cell_type": "markdown",
      "metadata": {
        "id": "view-in-github",
        "colab_type": "text"
      },
      "source": [
        "<a href=\"https://colab.research.google.com/github/KhangTran2503/CS114.K21.KHTN/blob/master/%5BCapsone_Project%5D_New_ML_FinalProject.ipynb\" target=\"_parent\"><img src=\"https://colab.research.google.com/assets/colab-badge.svg\" alt=\"Open In Colab\"/></a>"
      ]
    },
    {
      "cell_type": "markdown",
      "metadata": {
        "id": "dU1P1y66uUcr",
        "colab_type": "text"
      },
      "source": [
        "#**Đề Tài: Xác định các tòa nhà của UIT thông qua hình ảnh chụp**\n"
      ]
    },
    {
      "cell_type": "markdown",
      "metadata": {
        "id": "2PhnFDqe_NDX",
        "colab_type": "text"
      },
      "source": [
        "#**1. Mô tả bài toán:**\n"
      ]
    },
    {
      "cell_type": "markdown",
      "metadata": {
        "id": "d9S215owxR-Y",
        "colab_type": "text"
      },
      "source": [
        "####**INPUT:**\n",
        ">  Đầu vào là ảnh về một toà nhà trong UIT.\n",
        "####**OUTPUT:**\n",
        ">  Tên của tòa nhà trong UIT\n",
        "\n",
        "<img src='https://drive.google.com/uc?id=1qnduJkAceIySfhMyQPpASNJxG8Ma6vfg' title='In_Out' class=\"center\" width=500/>"
      ]
    }
  ]
}