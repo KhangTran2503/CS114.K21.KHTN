{
  "nbformat": 4,
  "nbformat_minor": 0,
  "metadata": {
    "colab": {
      "name": "Copy of Kaggle API.ipynb",
      "provenance": [],
      "authorship_tag": "ABX9TyNJWUGcPX33PPBNaED9HSrd",
      "include_colab_link": true
    },
    "kernelspec": {
      "name": "python3",
      "display_name": "Python 3"
    }
  },
  "cells": [
    {
      "cell_type": "markdown",
      "metadata": {
        "id": "view-in-github",
        "colab_type": "text"
      },
      "source": [
        "<a href=\"https://colab.research.google.com/github/KhangTran2503/CS114.K21.KHTN/blob/master/Copy_of_Kaggle_API.ipynb\" target=\"_parent\"><img src=\"https://colab.research.google.com/assets/colab-badge.svg\" alt=\"Open In Colab\"/></a>"
      ]
    },
    {
      "cell_type": "code",
      "metadata": {
        "id": "nqdt1Da0x44r",
        "colab_type": "code",
        "outputId": "c1a4f81e-809e-4a57-f3b6-a276dbd38b96",
        "colab": {
          "resources": {
            "http://localhost:8080/nbextensions/google.colab/files.js": {
              "data": "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",
              "ok": true,
              "headers": [
                [
                  "content-type",
                  "application/javascript"
                ]
              ],
              "status": 200,
              "status_text": "OK"
            }
          },
          "base_uri": "https://localhost:8080/",
          "height": 99
        }
      },
      "source": [
        "from google.colab import files\n",
        "files.upload()"
      ],
      "execution_count": 5,
      "outputs": [
        {
          "output_type": "display_data",
          "data": {
            "text/html": [
              "\n",
              "     <input type=\"file\" id=\"files-0262ac14-34d3-4e23-90f7-332795d06570\" name=\"files[]\" multiple disabled />\n",
              "     <output id=\"result-0262ac14-34d3-4e23-90f7-332795d06570\">\n",
              "      Upload widget is only available when the cell has been executed in the\n",
              "      current browser session. Please rerun this cell to enable.\n",
              "      </output>\n",
              "      <script src=\"/nbextensions/google.colab/files.js\"></script> "
            ],
            "text/plain": [
              "<IPython.core.display.HTML object>"
            ]
          },
          "metadata": {
            "tags": []
          }
        },
        {
          "output_type": "stream",
          "text": [
            "Saving kaggle.json to kaggle.json\n"
          ],
          "name": "stdout"
        },
        {
          "output_type": "execute_result",
          "data": {
            "text/plain": [
              "{'kaggle.json': b'{\"username\":\"khangtrn\",\"key\":\"50ba678557f548dffb605d909919e77b\"}'}"
            ]
          },
          "metadata": {
            "tags": []
          },
          "execution_count": 5
        }
      ]
    },
    {
      "cell_type": "code",
      "metadata": {
        "id": "WN2Q7TfByqbz",
        "colab_type": "code",
        "outputId": "80213f53-3b60-4dee-e239-e7b7f64b9f8d",
        "colab": {
          "base_uri": "https://localhost:8080/",
          "height": 35
        }
      },
      "source": [
        "!ls -lha kaggle.json "
      ],
      "execution_count": 6,
      "outputs": [
        {
          "output_type": "stream",
          "text": [
            "-rw-r--r-- 1 root root 64 Apr  7 17:22 kaggle.json\n"
          ],
          "name": "stdout"
        }
      ]
    },
    {
      "cell_type": "code",
      "metadata": {
        "id": "EIoqrSjfyu8_",
        "colab_type": "code",
        "colab": {}
      },
      "source": [
        "!pip install -q kaggle"
      ],
      "execution_count": 0,
      "outputs": []
    },
    {
      "cell_type": "code",
      "metadata": {
        "id": "ZH-sCsueytXA",
        "colab_type": "code",
        "colab": {}
      },
      "source": [
        "!mkdir -p ~/.kaggle"
      ],
      "execution_count": 0,
      "outputs": []
    },
    {
      "cell_type": "code",
      "metadata": {
        "id": "mR-XkVLSyuBU",
        "colab_type": "code",
        "colab": {}
      },
      "source": [
        "!cp kaggle.json ~/.kaggle/"
      ],
      "execution_count": 0,
      "outputs": []
    },
    {
      "cell_type": "code",
      "metadata": {
        "id": "OEQGphZmz4rZ",
        "colab_type": "code",
        "colab": {}
      },
      "source": [
        "!chmod 600 ~/.kaggle/kaggle.json"
      ],
      "execution_count": 0,
      "outputs": []
    },
    {
      "cell_type": "code",
      "metadata": {
        "id": "JCchijmpz9lw",
        "colab_type": "code",
        "outputId": "574d3e13-9c33-4429-c397-67f584c1c39f",
        "colab": {
          "base_uri": "https://localhost:8080/",
          "height": 459
        }
      },
      "source": [
        "!kaggle datasets list -s face"
      ],
      "execution_count": 11,
      "outputs": [
        {
          "output_type": "stream",
          "text": [
            "Warning: Looks like you're using an outdated API Version, please consider updating (server 1.5.6 / client 1.5.4)\n",
            "ref                                                          title                                                size  lastUpdated          downloadCount  \n",
            "-----------------------------------------------------------  --------------------------------------------------  -----  -------------------  -------------  \n",
            "dataturks/face-detection-in-images                           Face Detection in Images                             55KB  2018-07-12 09:34:14           5163  \n",
            "splcher/animefacedataset                                     Anime Face Dataset                                  395MB  2019-10-13 16:33:20            573  \n",
            "atulanandjha/lfwpeople                                       LFW - People (Face Recognition)                     232MB  2019-11-15 19:45:43           1839  \n",
            "ciplab/real-and-fake-face-detection                          Real and Fake Face Detection                        431MB  2019-01-14 14:54:52           2348  \n",
            "selfishgene/youtube-faces-with-facial-keypoints              YouTube Faces With Facial Keypoints                  10GB  2017-11-14 05:46:08           3930  \n",
            "timesler/facenet-pytorch-vggface2                            facenet pytorch vggface2                            112MB  2020-03-12 03:27:00           1084  \n",
            "berkeleyearth/climate-change-earth-surface-temperature-data  Climate Change: Earth Surface Temperature Data       85MB  2017-05-01 17:29:10          47086  \n",
            "drgilermo/face-images-with-marked-landmark-points            Face Images with Marked Landmark Points             105MB  2017-09-19 18:39:17           2730  \n",
            "jessicali9530/celeba-dataset                                 CelebFaces Attributes (CelebA) Dataset                1GB  2018-06-01 20:08:48          26349  \n",
            "kostastokis/simpsons-faces                                   Simpsons Faces                                      442MB  2018-09-28 17:38:04           3124  \n",
            "facebook/facebook-v-results                                  Facebook V Results: Predicting Check Ins              3GB  2019-11-17 21:51:39           2712  \n",
            "jessicali9530/lfw-dataset                                    Labelled Faces in the Wild (LFW) Dataset            112MB  2018-05-17 19:57:27           3579  \n",
            "soumikrakshit/anime-faces                                    Anime Faces                                         441MB  2019-05-16 10:38:47           1432  \n",
            "humananalog/blazeface-pytorch                                BlazeFace PyTorch                                   378KB  2020-01-12 21:24:08           1531  \n",
            "gpreda/haar-cascades-for-face-detection                      Haar Cascades for Face Detection                      1MB  2019-12-21 21:09:41            474  \n",
            "greatgamedota/ffhq-face-data-set                             FFHQ Face Data Set                                    2GB  2019-10-12 22:12:09            109  \n",
            "mchirico/cheltenham-s-facebook-group                         Cheltenham's Facebook Groups                           0B  2018-04-02 18:55:36           1425  \n",
            "olgabelitskaya/yale-face-database                            Yale Face Database                                   12MB  2018-09-05 09:54:51           1691  \n",
            "mrisdal/2016-us-presidential-debates                         2016 US Presidential Debates                        120KB  2016-10-24 03:13:26           3810  \n",
            "PROPPG-PPG/hourly-weather-surface-brazil-southeast-region    Hourly Weather Surface - Brazil (Southeast region)  289MB  2018-04-06 04:35:55           4123  \n"
          ],
          "name": "stdout"
        }
      ]
    },
    {
      "cell_type": "code",
      "metadata": {
        "id": "I06bY7J10vJK",
        "colab_type": "code",
        "outputId": "15463cb5-9201-4098-d48b-826b2cdbe8e5",
        "colab": {
          "base_uri": "https://localhost:8080/",
          "height": 72
        }
      },
      "source": [
        "!kaggle datasets download -d olgabelitskaya/yale-face-database "
      ],
      "execution_count": 12,
      "outputs": [
        {
          "output_type": "stream",
          "text": [
            "Downloading yale-face-database.zip to /content\n",
            " 94% 11.0M/11.8M [00:00<00:00, 16.5MB/s]\n",
            "100% 11.8M/11.8M [00:00<00:00, 17.2MB/s]\n"
          ],
          "name": "stdout"
        }
      ]
    },
    {
      "cell_type": "code",
      "metadata": {
        "id": "Pp0bZ-QwpWl1",
        "colab_type": "code",
        "colab": {
          "base_uri": "https://localhost:8080/",
          "height": 1000
        },
        "outputId": "973059a6-1f61-4825-f0a6-87e8081f0309"
      },
      "source": [
        "!unzip yale-face-database.zip"
      ],
      "execution_count": 13,
      "outputs": [
        {
          "output_type": "stream",
          "text": [
            "Archive:  yale-face-database.zip\n",
            "  inflating: Readme.txt              \n",
            "  inflating: data/Readme.txt         \n",
            "  inflating: data/subject01.centerlight  \n",
            "  inflating: data/subject01.glasses  \n",
            "  inflating: data/subject01.happy    \n",
            "  inflating: data/subject01.leftlight  \n",
            "  inflating: data/subject01.noglasses  \n",
            "  inflating: data/subject01.normal   \n",
            "  inflating: data/subject01.rightlight  \n",
            "  inflating: data/subject01.sad      \n",
            "  inflating: data/subject01.sleepy   \n",
            "  inflating: data/subject01.surprised  \n",
            "  inflating: data/subject01.wink     \n",
            "  inflating: data/subject02.centerlight  \n",
            "  inflating: data/subject02.glasses  \n",
            "  inflating: data/subject02.happy    \n",
            "  inflating: data/subject02.leftlight  \n",
            "  inflating: data/subject02.noglasses  \n",
            "  inflating: data/subject02.normal   \n",
            "  inflating: data/subject02.rightlight  \n",
            "  inflating: data/subject02.sad      \n",
            "  inflating: data/subject02.sleepy   \n",
            "  inflating: data/subject02.surprised  \n",
            "  inflating: data/subject02.wink     \n",
            "  inflating: data/subject03.centerlight  \n",
            "  inflating: data/subject03.glasses  \n",
            "  inflating: data/subject03.happy    \n",
            "  inflating: data/subject03.leftlight  \n",
            "  inflating: data/subject03.noglasses  \n",
            "  inflating: data/subject03.normal   \n",
            "  inflating: data/subject03.rightlight  \n",
            "  inflating: data/subject03.sad      \n",
            "  inflating: data/subject03.sleepy   \n",
            "  inflating: data/subject03.surprised  \n",
            "  inflating: data/subject03.wink     \n",
            "  inflating: data/subject04.centerlight  \n",
            "  inflating: data/subject04.glasses  \n",
            "  inflating: data/subject04.happy    \n",
            "  inflating: data/subject04.leftlight  \n",
            "  inflating: data/subject04.noglasses  \n",
            "  inflating: data/subject04.normal   \n",
            "  inflating: data/subject04.rightlight  \n",
            "  inflating: data/subject04.sad      \n",
            "  inflating: data/subject04.sleepy   \n",
            "  inflating: data/subject04.surprised  \n",
            "  inflating: data/subject04.wink     \n",
            "  inflating: data/subject05.centerlight  \n",
            "  inflating: data/subject05.glasses  \n",
            "  inflating: data/subject05.happy    \n",
            "  inflating: data/subject05.leftlight  \n",
            "  inflating: data/subject05.noglasses  \n",
            "  inflating: data/subject05.normal   \n",
            "  inflating: data/subject05.rightlight  \n",
            "  inflating: data/subject05.sad      \n",
            "  inflating: data/subject05.sleepy   \n",
            "  inflating: data/subject05.surprised  \n",
            "  inflating: data/subject05.wink     \n",
            "  inflating: data/subject06.centerlight  \n",
            "  inflating: data/subject06.glasses  \n",
            "  inflating: data/subject06.happy    \n",
            "  inflating: data/subject06.leftlight  \n",
            "  inflating: data/subject06.noglasses  \n",
            "  inflating: data/subject06.normal   \n",
            "  inflating: data/subject06.rightlight  \n",
            "  inflating: data/subject06.sad      \n",
            "  inflating: data/subject06.sleepy   \n",
            "  inflating: data/subject06.surprised  \n",
            "  inflating: data/subject06.wink     \n",
            "  inflating: data/subject07.centerlight  \n",
            "  inflating: data/subject07.glasses  \n",
            "  inflating: data/subject07.happy    \n",
            "  inflating: data/subject07.leftlight  \n",
            "  inflating: data/subject07.noglasses  \n",
            "  inflating: data/subject07.normal   \n",
            "  inflating: data/subject07.rightlight  \n",
            "  inflating: data/subject07.sad      \n",
            "  inflating: data/subject07.sleepy   \n",
            "  inflating: data/subject07.surprised  \n",
            "  inflating: data/subject07.wink     \n",
            "  inflating: data/subject08.centerlight  \n",
            "  inflating: data/subject08.glasses  \n",
            "  inflating: data/subject08.happy    \n",
            "  inflating: data/subject08.leftlight  \n",
            "  inflating: data/subject08.noglasses  \n",
            "  inflating: data/subject08.normal   \n",
            "  inflating: data/subject08.rightlight  \n",
            "  inflating: data/subject08.sad      \n",
            "  inflating: data/subject08.sleepy   \n",
            "  inflating: data/subject08.surprised  \n",
            "  inflating: data/subject08.wink     \n",
            "  inflating: data/subject09.centerlight  \n",
            "  inflating: data/subject09.glasses  \n",
            "  inflating: data/subject09.happy    \n",
            "  inflating: data/subject09.leftlight  \n",
            "  inflating: data/subject09.noglasses  \n",
            "  inflating: data/subject09.normal   \n",
            "  inflating: data/subject09.rightlight  \n",
            "  inflating: data/subject09.sad      \n",
            "  inflating: data/subject09.sleepy   \n",
            "  inflating: data/subject09.surprised  \n",
            "  inflating: data/subject09.wink     \n",
            "  inflating: data/subject10.centerlight  \n",
            "  inflating: data/subject10.glasses  \n",
            "  inflating: data/subject10.happy    \n",
            "  inflating: data/subject10.leftlight  \n",
            "  inflating: data/subject10.noglasses  \n",
            "  inflating: data/subject10.normal   \n",
            "  inflating: data/subject10.rightlight  \n",
            "  inflating: data/subject10.sad      \n",
            "  inflating: data/subject10.sleepy   \n",
            "  inflating: data/subject10.surprised  \n",
            "  inflating: data/subject10.wink     \n",
            "  inflating: data/subject11.centerlight  \n",
            "  inflating: data/subject11.glasses  \n",
            "  inflating: data/subject11.happy    \n",
            "  inflating: data/subject11.leftlight  \n",
            "  inflating: data/subject11.noglasses  \n",
            "  inflating: data/subject11.normal   \n",
            "  inflating: data/subject11.rightlight  \n",
            "  inflating: data/subject11.sad      \n",
            "  inflating: data/subject11.sleepy   \n",
            "  inflating: data/subject11.surprised  \n",
            "  inflating: data/subject11.wink     \n",
            "  inflating: data/subject12.centerlight  \n",
            "  inflating: data/subject12.glasses  \n",
            "  inflating: data/subject12.happy    \n",
            "  inflating: data/subject12.leftlight  \n",
            "  inflating: data/subject12.noglasses  \n",
            "  inflating: data/subject12.normal   \n",
            "  inflating: data/subject12.rightlight  \n",
            "  inflating: data/subject12.sad      \n",
            "  inflating: data/subject12.sleepy   \n",
            "  inflating: data/subject12.surprised  \n",
            "  inflating: data/subject12.wink     \n",
            "  inflating: data/subject13.centerlight  \n",
            "  inflating: data/subject13.glasses  \n",
            "  inflating: data/subject13.happy    \n",
            "  inflating: data/subject13.leftlight  \n",
            "  inflating: data/subject13.noglasses  \n",
            "  inflating: data/subject13.normal   \n",
            "  inflating: data/subject13.rightlight  \n",
            "  inflating: data/subject13.sad      \n",
            "  inflating: data/subject13.sleepy   \n",
            "  inflating: data/subject13.surprised  \n",
            "  inflating: data/subject13.wink     \n",
            "  inflating: data/subject14.centerlight  \n",
            "  inflating: data/subject14.glasses  \n",
            "  inflating: data/subject14.happy    \n",
            "  inflating: data/subject14.leftlight  \n",
            "  inflating: data/subject14.noglasses  \n",
            "  inflating: data/subject14.normal   \n",
            "  inflating: data/subject14.rightlight  \n",
            "  inflating: data/subject14.sad      \n",
            "  inflating: data/subject14.sleepy   \n",
            "  inflating: data/subject14.surprised  \n",
            "  inflating: data/subject14.wink     \n",
            "  inflating: data/subject15.centerlight  \n",
            "  inflating: data/subject15.glasses  \n",
            "  inflating: data/subject15.happy    \n",
            "  inflating: data/subject15.leftlight  \n",
            "  inflating: data/subject15.noglasses  \n",
            "  inflating: data/subject15.normal   \n",
            "  inflating: data/subject15.rightlight  \n",
            "  inflating: data/subject15.sad      \n",
            "  inflating: data/subject15.sleepy   \n",
            "  inflating: data/subject15.surprised  \n",
            "  inflating: data/subject15.wink     \n",
            "  inflating: subject01.centerlight   \n",
            "  inflating: subject01.glasses       \n",
            "  inflating: subject01.happy         \n",
            "  inflating: subject01.leftlight     \n",
            "  inflating: subject01.noglasses     \n",
            "  inflating: subject01.normal        \n",
            "  inflating: subject01.rightlight    \n",
            "  inflating: subject01.sad           \n",
            "  inflating: subject01.sleepy        \n",
            "  inflating: subject01.surprised     \n",
            "  inflating: subject01.wink          \n",
            "  inflating: subject02.centerlight   \n",
            "  inflating: subject02.glasses       \n",
            "  inflating: subject02.happy         \n",
            "  inflating: subject02.leftlight     \n",
            "  inflating: subject02.noglasses     \n",
            "  inflating: subject02.normal        \n",
            "  inflating: subject02.rightlight    \n",
            "  inflating: subject02.sad           \n",
            "  inflating: subject02.sleepy        \n",
            "  inflating: subject02.surprised     \n",
            "  inflating: subject02.wink          \n",
            "  inflating: subject03.centerlight   \n",
            "  inflating: subject03.glasses       \n",
            "  inflating: subject03.happy         \n",
            "  inflating: subject03.leftlight     \n",
            "  inflating: subject03.noglasses     \n",
            "  inflating: subject03.normal        \n",
            "  inflating: subject03.rightlight    \n",
            "  inflating: subject03.sad           \n",
            "  inflating: subject03.sleepy        \n",
            "  inflating: subject03.surprised     \n",
            "  inflating: subject03.wink          \n",
            "  inflating: subject04.centerlight   \n",
            "  inflating: subject04.glasses       \n",
            "  inflating: subject04.happy         \n",
            "  inflating: subject04.leftlight     \n",
            "  inflating: subject04.noglasses     \n",
            "  inflating: subject04.normal        \n",
            "  inflating: subject04.rightlight    \n",
            "  inflating: subject04.sad           \n",
            "  inflating: subject04.sleepy        \n",
            "  inflating: subject04.surprised     \n",
            "  inflating: subject04.wink          \n",
            "  inflating: subject05.centerlight   \n",
            "  inflating: subject05.glasses       \n",
            "  inflating: subject05.happy         \n",
            "  inflating: subject05.leftlight     \n",
            "  inflating: subject05.noglasses     \n",
            "  inflating: subject05.normal        \n",
            "  inflating: subject05.rightlight    \n",
            "  inflating: subject05.sad           \n",
            "  inflating: subject05.sleepy        \n",
            "  inflating: subject05.surprised     \n",
            "  inflating: subject05.wink          \n",
            "  inflating: subject06.centerlight   \n",
            "  inflating: subject06.glasses       \n",
            "  inflating: subject06.happy         \n",
            "  inflating: subject06.leftlight     \n",
            "  inflating: subject06.noglasses     \n",
            "  inflating: subject06.normal        \n",
            "  inflating: subject06.rightlight    \n",
            "  inflating: subject06.sad           \n",
            "  inflating: subject06.sleepy        \n",
            "  inflating: subject06.surprised     \n",
            "  inflating: subject06.wink          \n",
            "  inflating: subject07.centerlight   \n",
            "  inflating: subject07.glasses       \n",
            "  inflating: subject07.happy         \n",
            "  inflating: subject07.leftlight     \n",
            "  inflating: subject07.noglasses     \n",
            "  inflating: subject07.normal        \n",
            "  inflating: subject07.rightlight    \n",
            "  inflating: subject07.sad           \n",
            "  inflating: subject07.sleepy        \n",
            "  inflating: subject07.surprised     \n",
            "  inflating: subject07.wink          \n",
            "  inflating: subject08.centerlight   \n",
            "  inflating: subject08.glasses       \n",
            "  inflating: subject08.happy         \n",
            "  inflating: subject08.leftlight     \n",
            "  inflating: subject08.noglasses     \n",
            "  inflating: subject08.normal        \n",
            "  inflating: subject08.rightlight    \n",
            "  inflating: subject08.sad           \n",
            "  inflating: subject08.sleepy        \n",
            "  inflating: subject08.surprised     \n",
            "  inflating: subject08.wink          \n",
            "  inflating: subject09.centerlight   \n",
            "  inflating: subject09.glasses       \n",
            "  inflating: subject09.happy         \n",
            "  inflating: subject09.leftlight     \n",
            "  inflating: subject09.noglasses     \n",
            "  inflating: subject09.normal        \n",
            "  inflating: subject09.rightlight    \n",
            "  inflating: subject09.sad           \n",
            "  inflating: subject09.sleepy        \n",
            "  inflating: subject09.surprised     \n",
            "  inflating: subject09.wink          \n",
            "  inflating: subject10.centerlight   \n",
            "  inflating: subject10.glasses       \n",
            "  inflating: subject10.happy         \n",
            "  inflating: subject10.leftlight     \n",
            "  inflating: subject10.noglasses     \n",
            "  inflating: subject10.normal        \n",
            "  inflating: subject10.rightlight    \n",
            "  inflating: subject10.sad           \n",
            "  inflating: subject10.sleepy        \n",
            "  inflating: subject10.surprised     \n",
            "  inflating: subject10.wink          \n",
            "  inflating: subject11.centerlight   \n",
            "  inflating: subject11.glasses       \n",
            "  inflating: subject11.happy         \n",
            "  inflating: subject11.leftlight     \n",
            "  inflating: subject11.noglasses     \n",
            "  inflating: subject11.normal        \n",
            "  inflating: subject11.rightlight    \n",
            "  inflating: subject11.sad           \n",
            "  inflating: subject11.sleepy        \n",
            "  inflating: subject11.surprised     \n",
            "  inflating: subject11.wink          \n",
            "  inflating: subject12.centerlight   \n",
            "  inflating: subject12.glasses       \n",
            "  inflating: subject12.happy         \n",
            "  inflating: subject12.leftlight     \n",
            "  inflating: subject12.noglasses     \n",
            "  inflating: subject12.normal        \n",
            "  inflating: subject12.rightlight    \n",
            "  inflating: subject12.sad           \n",
            "  inflating: subject12.sleepy        \n",
            "  inflating: subject12.surprised     \n",
            "  inflating: subject12.wink          \n",
            "  inflating: subject13.centerlight   \n",
            "  inflating: subject13.glasses       \n",
            "  inflating: subject13.happy         \n",
            "  inflating: subject13.leftlight     \n",
            "  inflating: subject13.noglasses     \n",
            "  inflating: subject13.normal        \n",
            "  inflating: subject13.rightlight    \n",
            "  inflating: subject13.sad           \n",
            "  inflating: subject13.sleepy        \n",
            "  inflating: subject13.surprised     \n",
            "  inflating: subject13.wink          \n",
            "  inflating: subject14.centerlight   \n",
            "  inflating: subject14.glasses       \n",
            "  inflating: subject14.happy         \n",
            "  inflating: subject14.leftlight     \n",
            "  inflating: subject14.noglasses     \n",
            "  inflating: subject14.normal        \n",
            "  inflating: subject14.rightlight    \n",
            "  inflating: subject14.sad           \n",
            "  inflating: subject14.sleepy        \n",
            "  inflating: subject14.surprised     \n",
            "  inflating: subject14.wink          \n",
            "  inflating: subject15.centerlight   \n",
            "  inflating: subject15.glasses       \n",
            "  inflating: subject15.happy         \n",
            "  inflating: subject15.leftlight     \n",
            "  inflating: subject15.noglasses     \n",
            "  inflating: subject15.normal        \n",
            "  inflating: subject15.rightlight    \n",
            "  inflating: subject15.sad           \n",
            "  inflating: subject15.sleepy        \n",
            "  inflating: subject15.surprised     \n",
            "  inflating: subject15.wink          \n"
          ],
          "name": "stdout"
        }
      ]
    },
    {
      "cell_type": "code",
      "metadata": {
        "id": "XzXx8d0EqzCN",
        "colab_type": "code",
        "colab": {
          "base_uri": "https://localhost:8080/",
          "height": 1000
        },
        "outputId": "da468a0e-c296-4246-a18c-52081bfdfdd9"
      },
      "source": [
        "!ls"
      ],
      "execution_count": 18,
      "outputs": [
        {
          "output_type": "stream",
          "text": [
            "data\t\t       subject05.surprised    subject11.centerlight\n",
            "kaggle.json\t       subject05.wink\t      subject11.glasses\n",
            "Readme.txt\t       subject06.centerlight  subject11.happy\n",
            "sample_data\t       subject06.glasses      subject11.leftlight\n",
            "subject01.centerlight  subject06.happy\t      subject11.noglasses\n",
            "subject01.glasses      subject06.leftlight    subject11.normal\n",
            "subject01.happy        subject06.noglasses    subject11.rightlight\n",
            "subject01.leftlight    subject06.normal       subject11.sad\n",
            "subject01.noglasses    subject06.rightlight   subject11.sleepy\n",
            "subject01.normal       subject06.sad\t      subject11.surprised\n",
            "subject01.rightlight   subject06.sleepy       subject11.wink\n",
            "subject01.sad\t       subject06.surprised    subject12.centerlight\n",
            "subject01.sleepy       subject06.wink\t      subject12.glasses\n",
            "subject01.surprised    subject07.centerlight  subject12.happy\n",
            "subject01.wink\t       subject07.glasses      subject12.leftlight\n",
            "subject02.centerlight  subject07.happy\t      subject12.noglasses\n",
            "subject02.glasses      subject07.leftlight    subject12.normal\n",
            "subject02.happy        subject07.noglasses    subject12.rightlight\n",
            "subject02.leftlight    subject07.normal       subject12.sad\n",
            "subject02.noglasses    subject07.rightlight   subject12.sleepy\n",
            "subject02.normal       subject07.sad\t      subject12.surprised\n",
            "subject02.rightlight   subject07.sleepy       subject12.wink\n",
            "subject02.sad\t       subject07.surprised    subject13.centerlight\n",
            "subject02.sleepy       subject07.wink\t      subject13.glasses\n",
            "subject02.surprised    subject08.centerlight  subject13.happy\n",
            "subject02.wink\t       subject08.glasses      subject13.leftlight\n",
            "subject03.centerlight  subject08.happy\t      subject13.noglasses\n",
            "subject03.glasses      subject08.leftlight    subject13.normal\n",
            "subject03.happy        subject08.noglasses    subject13.rightlight\n",
            "subject03.leftlight    subject08.normal       subject13.sad\n",
            "subject03.noglasses    subject08.rightlight   subject13.sleepy\n",
            "subject03.normal       subject08.sad\t      subject13.surprised\n",
            "subject03.rightlight   subject08.sleepy       subject13.wink\n",
            "subject03.sad\t       subject08.surprised    subject14.centerlight\n",
            "subject03.sleepy       subject08.wink\t      subject14.glasses\n",
            "subject03.surprised    subject09.centerlight  subject14.happy\n",
            "subject03.wink\t       subject09.glasses      subject14.leftlight\n",
            "subject04.centerlight  subject09.happy\t      subject14.noglasses\n",
            "subject04.glasses      subject09.leftlight    subject14.normal\n",
            "subject04.happy        subject09.noglasses    subject14.rightlight\n",
            "subject04.leftlight    subject09.normal       subject14.sad\n",
            "subject04.noglasses    subject09.rightlight   subject14.sleepy\n",
            "subject04.normal       subject09.sad\t      subject14.surprised\n",
            "subject04.rightlight   subject09.sleepy       subject14.wink\n",
            "subject04.sad\t       subject09.surprised    subject15.centerlight\n",
            "subject04.sleepy       subject09.wink\t      subject15.glasses\n",
            "subject04.surprised    subject10.centerlight  subject15.happy\n",
            "subject04.wink\t       subject10.glasses      subject15.leftlight\n",
            "subject05.centerlight  subject10.happy\t      subject15.noglasses\n",
            "subject05.glasses      subject10.leftlight    subject15.normal\n",
            "subject05.happy        subject10.noglasses    subject15.rightlight\n",
            "subject05.leftlight    subject10.normal       subject15.sad\n",
            "subject05.noglasses    subject10.rightlight   subject15.sleepy\n",
            "subject05.normal       subject10.sad\t      subject15.surprised\n",
            "subject05.rightlight   subject10.sleepy       subject15.wink\n",
            "subject05.sad\t       subject10.surprised    yale-face-database.zip\n",
            "subject05.sleepy       subject10.wink\n"
          ],
          "name": "stdout"
        }
      ]
    }
  ]
}