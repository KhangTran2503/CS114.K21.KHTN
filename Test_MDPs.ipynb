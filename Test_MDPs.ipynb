{
  "nbformat": 4,
  "nbformat_minor": 0,
  "metadata": {
    "colab": {
      "name": "Test_MDPs.ipynb",
      "provenance": [],
      "collapsed_sections": [],
      "authorship_tag": "ABX9TyMH0DXkDPuvOaNZNCWPIAk3",
      "include_colab_link": true
    },
    "kernelspec": {
      "name": "python3",
      "display_name": "Python 3"
    }
  },
  "cells": [
    {
      "cell_type": "markdown",
      "metadata": {
        "id": "view-in-github",
        "colab_type": "text"
      },
      "source": [
        "<a href=\"https://colab.research.google.com/github/KhangTran2503/CS114.K21.KHTN/blob/master/Test_MDPs.ipynb\" target=\"_parent\"><img src=\"https://colab.research.google.com/assets/colab-badge.svg\" alt=\"Open In Colab\"/></a>"
      ]
    },
    {
      "cell_type": "markdown",
      "metadata": {
        "id": "YhCNnDq-uNTR",
        "colab_type": "text"
      },
      "source": [
        "## **Reinforcement Learning with OpenAI Gym**\n",
        "# [OpenAI Gym](https://gym.openai.com/) \n",
        "\n",
        "> **OpenAI Gym is a toolkit for developing and comparing reinforcement learning algorithms**. It supports teaching agents everything from walking to playing games like Pong or Pinball.\n"
      ]
    },
    {
      "cell_type": "code",
      "metadata": {
        "id": "k1hYbrFJusNi",
        "colab_type": "code",
        "colab": {}
      },
      "source": [
        "!pip install gym\n"
      ],
      "execution_count": 0,
      "outputs": []
    },
    {
      "cell_type": "code",
      "metadata": {
        "id": "A3u1Kk9uuygr",
        "colab_type": "code",
        "colab": {}
      },
      "source": [
        "import numpy as np\n",
        "import gym\n",
        "env = gym.make('FrozenLake-v0')"
      ],
      "execution_count": 0,
      "outputs": []
    },
    {
      "cell_type": "code",
      "metadata": {
        "id": "Kxmk3bWcvPbc",
        "colab_type": "code",
        "colab": {}
      },
      "source": [
        "env.reset()"
      ],
      "execution_count": 0,
      "outputs": []
    },
    {
      "cell_type": "code",
      "metadata": {
        "id": "fcSqmBO2vSiP",
        "colab_type": "code",
        "colab": {}
      },
      "source": [
        "def value_iteration(env, max_iters,gamma = 0.9):\n",
        "    v_values = np.zeros(env.observation_space.n)\n",
        "    for i in range(max_iters):\n",
        "        prev_v_values = np.copy(v_values)\n",
        "\n",
        "        #Compute value for each state\n",
        "        for state in range(env.observation_space.n):\n",
        "            q_values = []\n",
        "\n",
        "            # compute q-value for each action\n",
        "            for action in range(env.action_space.n):\n",
        "                q_value = 0\n",
        "                for prob, next_state, reward, done in env.P[state][action]:\n",
        "                    q_value += prob * (reward + gamma * prev_v_values[next_state])\n",
        "                q_values.append(q_value)\n",
        "            \n",
        "            #Select the best action\n",
        "            best_action = np.argmax(np.asarray(q_values))\n",
        "            v_values[state] = q_values[best_action]\n",
        "\n",
        "        #check convergence\n",
        "        if np.all(np.isclose(v_values,prev_v_values)):\n",
        "            print('Converged at {}-th iteration.'.format(i))\n",
        "            break\n",
        "    return v_values"
      ],
      "execution_count": 0,
      "outputs": []
    },
    {
      "cell_type": "code",
      "metadata": {
        "id": "1jR0KZ2_ys_l",
        "colab_type": "code",
        "colab": {}
      },
      "source": [
        "def policy_extraction(env, v_values,gamma=0.9):\n",
        "    policy = np.zeros(env.observation_space.n,dtype=np.int)\n",
        "    #Compute the best action for each state in the game\n",
        "    #Compute q-values for each (state-action) pair in the game\n",
        "    for state in range(env.observation_space.n):\n",
        "        q_values = []\n",
        "        # Compute q-values for each action\n",
        "        for action in range(env.action_space.n):\n",
        "            q_value = 0\n",
        "            for prob, next_state, reward, done in env.P[state][action]:\n",
        "                q_value += prob * (reward + gamma * v_values[next_state])\n",
        "            q_values.append(q_value)\n",
        "        \n",
        "        #Select the best action\n",
        "        best_action = np.argmax(np.asarray(q_values))\n",
        "        policy[state] = best_action\n",
        "    return policy\n"
      ],
      "execution_count": 0,
      "outputs": []
    },
    {
      "cell_type": "code",
      "metadata": {
        "id": "pJONVkbs0wrs",
        "colab_type": "code",
        "colab": {}
      },
      "source": [
        "v_values = value_iteration(env,max_iters=1000,gamma=0.9)"
      ],
      "execution_count": 0,
      "outputs": []
    },
    {
      "cell_type": "code",
      "metadata": {
        "id": "Swzya7xo1m3g",
        "colab_type": "code",
        "colab": {}
      },
      "source": [
        "policy = policy_extraction(env,v_values,gamma=0.9)"
      ],
      "execution_count": 0,
      "outputs": []
    },
    {
      "cell_type": "code",
      "metadata": {
        "id": "zSDuAV9E6kla",
        "colab_type": "code",
        "colab": {}
      },
      "source": [
        "print(policy)"
      ],
      "execution_count": 0,
      "outputs": []
    },
    {
      "cell_type": "code",
      "metadata": {
        "id": "XsGPFLaU6pXz",
        "colab_type": "code",
        "colab": {}
      },
      "source": [
        "env.render()"
      ],
      "execution_count": 0,
      "outputs": []
    },
    {
      "cell_type": "code",
      "metadata": {
        "id": "RteWKnRbQGgQ",
        "colab_type": "code",
        "colab": {}
      },
      "source": [
        "def play(env, policy):\n",
        "    state = env.reset()\n",
        "    steps = 0\n",
        "    done = False\n",
        "    while not done:\n",
        "        action = policy[state]\n",
        "        next_state, reward, done, info = env.step(action)\n",
        "        steps += 1\n",
        "        state = next_state\n",
        "    \n",
        "    return (reward, steps)\n"
      ],
      "execution_count": 0,
      "outputs": []
    },
    {
      "cell_type": "code",
      "metadata": {
        "id": "iZh4S41kSZk6",
        "colab_type": "code",
        "colab": {}
      },
      "source": [
        "def play_multiple_times(env, policy):\n",
        "    num_episodes = 1000\n",
        "    list_of_steps = []\n",
        "    num_failures = 0\n",
        "\n",
        "    for i in range(num_episodes):\n",
        "        reward, steps = play(env, policy)\n",
        "        if reward == 1:\n",
        "            list_of_steps.append(steps)\n",
        "        else:\n",
        "            num_failures += 1\n",
        "    \n",
        "    print('# failures: {}/{}'.format(num_failures,num_episodes))\n",
        "    print('avg. # step: {}'.format(np.mean(list_of_steps)))\n"
      ],
      "execution_count": 0,
      "outputs": []
    },
    {
      "cell_type": "code",
      "metadata": {
        "id": "c73ph2cbTnhV",
        "colab_type": "code",
        "colab": {}
      },
      "source": [
        "play_multiple_times(env,policy)"
      ],
      "execution_count": 0,
      "outputs": []
    }
  ]
}