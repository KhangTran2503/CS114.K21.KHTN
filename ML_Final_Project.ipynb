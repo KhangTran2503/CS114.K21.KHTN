{
  "nbformat": 4,
  "nbformat_minor": 0,
  "metadata": {
    "colab": {
      "name": "ML_Final Project.ipynb",
      "provenance": [],
      "authorship_tag": "ABX9TyPaQHy2oa9ub8KP2+GYrJWs",
      "include_colab_link": true
    },
    "kernelspec": {
      "name": "python3",
      "display_name": "Python 3"
    }
  },
  "cells": [
    {
      "cell_type": "markdown",
      "metadata": {
        "id": "view-in-github",
        "colab_type": "text"
      },
      "source": [
        "<a href=\"https://colab.research.google.com/github/KhangTran2503/CS114.K21.KHTN/blob/master/ML_Final_Project.ipynb\" target=\"_parent\"><img src=\"https://colab.research.google.com/assets/colab-badge.svg\" alt=\"Open In Colab\"/></a>"
      ]
    },
    {
      "cell_type": "markdown",
      "metadata": {
        "id": "3WfxakGUv60y",
        "colab_type": "text"
      },
      "source": [
        "#**Đề Tài: Nhận diện nam hay nữ thông qua hình ảnh**"
      ]
    },
    {
      "cell_type": "markdown",
      "metadata": {
        "id": "dBaSL8GUw1Vj",
        "colab_type": "text"
      },
      "source": [
        "## **1. Mô tả bài toán:**\n",
        "\n",
        "**Input:**  Ảnh chụp mặt người (chân dung).\n",
        "\n",
        "**Output** Giới tính nam hoặc nữ.\n"
      ]
    },
    {
      "cell_type": "markdown",
      "metadata": {
        "id": "D83FB5vUx4aP",
        "colab_type": "text"
      },
      "source": [
        "###**2. Mô tả về bộ dữ liệu**\n",
        "\n",
        " - Sử dụng bộ dữ liệu trên kaggle , google Image và sẽ bổ sung thêm dữ liệu xây dựng.\n",
        "\n",
        "-  Bộ dữ liệu hiện tại đã có 3354 file jpg. Trong đó gồm có 1414 file ảnh là người có giới tính nam, 1904 file là người có giới tính nữ\n",
        "\n",
        "\n",
        "- Phân chia bộ dữ liệu: 80% file ảnh sẽ được làm training set còn lại 20% bộ dữ liệu sẽ làm testset \n",
        "\n",
        "-  Sử dụng  k-Fold Cross-Validation để chọn ngẫu nhiên tập validation set\n",
        "\n",
        "- Tiền xử lý dữ liệu: resize bộ dữ liệu, cắt ảnh, tăng cường dữ liệu \n"
      ]
    },
    {
      "cell_type": "markdown",
      "metadata": {
        "id": "TpDWaZ1X1XIH",
        "colab_type": "text"
      },
      "source": [
        "###**3. Mô tả đặc trưng:**\n",
        "- Hình dạng khuôn mặt, trán , mũi, lông mày, xương hàm, râu tóc, ...."
      ]
    },
    {
      "cell_type": "markdown",
      "metadata": {
        "id": "YYWb6G2h1bbB",
        "colab_type": "text"
      },
      "source": [
        "###**4. Mô tả thuật toán máy học:**\n",
        "\n",
        "- Sử dụng thuật toán SVM, Random forest, Neural Network, Logistic Regression, K-Nearest Neighbours\n",
        "\n"
      ]
    },
    {
      "cell_type": "code",
      "metadata": {
        "id": "Mkl8cWPY0tno",
        "colab_type": "code",
        "colab": {}
      },
      "source": [
        ""
      ],
      "execution_count": 0,
      "outputs": []
    }
  ]
}