{
  "nbformat": 4,
  "nbformat_minor": 0,
  "metadata": {
    "colab": {
      "name": "[Capstone Project] New_ML_FinalProject.ipynb",
      "provenance": [],
      "collapsed_sections": [],
      "toc_visible": true,
      "mount_file_id": "1l0v_X2mA1SxaAukpg8YvnGn_WtasLYuv",
      "authorship_tag": "ABX9TyMgtpabSw8EKwiFI7KSKXLQ",
      "include_colab_link": true
    },
    "kernelspec": {
      "name": "python3",
      "display_name": "Python 3"
    }
  },
  "cells": [
    {
      "cell_type": "markdown",
      "metadata": {
        "id": "view-in-github",
        "colab_type": "text"
      },
      "source": [
        "<a href=\"https://colab.research.google.com/github/KhangTran2503/CS114.K21.KHTN/blob/master/%5BCapstone_Project%5D_New_ML_FinalProject.ipynb\" target=\"_parent\"><img src=\"https://colab.research.google.com/assets/colab-badge.svg\" alt=\"Open In Colab\"/></a>"
      ]
    },
    {
      "cell_type": "markdown",
      "metadata": {
        "id": "dU1P1y66uUcr",
        "colab_type": "text"
      },
      "source": [
        "#**Đề Tài: Xác định các tòa nhà của UIT thông qua hình ảnh chụp**\n"
      ]
    },
    {
      "cell_type": "markdown",
      "metadata": {
        "id": "2PhnFDqe_NDX",
        "colab_type": "text"
      },
      "source": [
        "#**1. Mô tả bài toán:**\n"
      ]
    },
    {
      "cell_type": "markdown",
      "metadata": {
        "id": "d9S215owxR-Y",
        "colab_type": "text"
      },
      "source": [
        "####**INPUT:**\n",
        ">  Đầu vào là ảnh về một toà nhà trong UIT.\n",
        "####**OUTPUT:**\n",
        ">  Tên của tòa nhà trong UIT\n",
        "\n",
        "<img src='https://drive.google.com/uc?id=1qnduJkAceIySfhMyQPpASNJxG8Ma6vfg' title='In_Out' class=\"center\" width=500/>"
      ]
    },
    {
      "cell_type": "markdown",
      "metadata": {
        "id": "OrsFgP3T27kj",
        "colab_type": "text"
      },
      "source": [
        "#**2. Mô tả về bộ dữ liệu:**\n",
        "\n",
        "\n"
      ]
    },
    {
      "cell_type": "markdown",
      "metadata": {
        "id": "nWH-_PJJkDFl",
        "colab_type": "text"
      },
      "source": [
        "+ Dataset thu thập cùng với các bạn Trung, An, Toàn bằng cách đi chụp các toà nhà trong trường.\n",
        "+ Bộ dữ liệu gồm 1096 ảnh file jpg được chụp bằng điện thoại Iphone 7. Các ảnh được chia vào 5 class là : B(Tòa B), C(Tòa C), D(Tòa D), E(Tòa E), CT(Căn Tin). \n",
        "+ Trong đó:\n",
        "    - Class B(Tòa B): 277 ảnh\n",
        "    - Class C(Tòa C): 235 ảnh\n",
        "    - Class D(Toà D): 157 ảnh\n",
        "    - Class E(Tòa E): 257 ảnh\n",
        "    - Class CT(Căn Tin): 170 ảnh\n",
        "+ Vì Class D và CT khá ít so với các Class khác nên có thể áp dụng Data Argument để sinh thêm các ảnh để bộ dữ liệu đồng đều. \n",
        "+ Tiền xử lí dữ liệu là resize các bức ảnh về cùng một kích thước 256x256, sau đó chuyển tất cả các ảnh thành màu grayscale.\n",
        "\n",
        "\n"
      ]
    },
    {
      "cell_type": "markdown",
      "metadata": {
        "id": "lYGac-mi0A_2",
        "colab_type": "text"
      },
      "source": [
        "###**2.1 Import thư viện:**\n",
        "\n",
        "\n"
      ]
    },
    {
      "cell_type": "code",
      "metadata": {
        "id": "9DsUctYZ0SGd",
        "colab_type": "code",
        "colab": {}
      },
      "source": [
        "import os\n",
        "import matplotlib.pyplot as plt"
      ],
      "execution_count": null,
      "outputs": []
    },
    {
      "cell_type": "markdown",
      "metadata": {
        "id": "cht-6W2c2ok4",
        "colab_type": "text"
      },
      "source": [
        "###**2.2 Load ảnh và xử lí ảnh:**\n",
        "\n",
        "\n"
      ]
    },
    {
      "cell_type": "code",
      "metadata": {
        "id": "54Rh5FanEdKX",
        "colab_type": "code",
        "colab": {
          "base_uri": "https://localhost:8080/",
          "height": 54
        },
        "outputId": "c2aea513-c9e6-42a5-e7e3-b6c908b1e392"
      },
      "source": [
        "%cd '/content/drive/My Drive/Colab Notebooks/[Capsone Study] New_ML_FinalProject/Dataset'\n",
        "!ls"
      ],
      "execution_count": null,
      "outputs": [
        {
          "output_type": "stream",
          "text": [
            "/content/drive/My Drive/Colab Notebooks/[Capsone Study] New_ML_FinalProject/Dataset\n",
            "B  C  CT  D  E\n"
          ],
          "name": "stdout"
        }
      ]
    },
    {
      "cell_type": "code",
      "metadata": {
        "id": "bCBTLoF6kJcm",
        "colab_type": "code",
        "colab": {}
      },
      "source": [
        "labelnames = ['B','C','D','E','CT']"
      ],
      "execution_count": null,
      "outputs": []
    },
    {
      "cell_type": "code",
      "metadata": {
        "id": "hU4sf2lM2nJO",
        "colab_type": "code",
        "colab": {}
      },
      "source": [
        "# Return list of dir\n",
        "def getdir_image():\n",
        "    dirpath = '/content/drive/My Drive/Colab Notebooks/[Capsone Study] New_ML_FinalProject/Dataset'\n",
        "    listdir = []\n",
        "    for numlabel,name in enumerate(labelnames):\n",
        "        fname = os.path.join(dirpath,name)\n",
        "        \n",
        "        tmplist = []\n",
        "        for filename in os.listdir(fname):\n",
        "             if filename.endswith('.jpg') or filename.endswith('.JPG'): \n",
        "                 dirfile = os.path.join(fname,filename)\n",
        "                 #print(dirfile)\n",
        "                 tmplist.append(dirfile)\n",
        "        listdir.append(tmplist)\n",
        "    return listdir"
      ],
      "execution_count": null,
      "outputs": []
    },
    {
      "cell_type": "code",
      "metadata": {
        "id": "ZoXL6PbTj4p1",
        "colab_type": "code",
        "colab": {
          "base_uri": "https://localhost:8080/",
          "height": 359
        },
        "outputId": "8e408d9f-e0fe-4a9a-db93-d67c85302ea7"
      },
      "source": [
        "%matplotlib inline\n",
        "Listdir = getdir_image()\n",
        "Size = list(map(lambda x: len(x),Listdir))\n",
        "\n",
        "fig = plt.figure(figsize=(10,5))\n",
        "plt.bar(labelnames,Size)\n",
        "plt.show()\n",
        "print(Size)\n",
        "print(sum(Size))"
      ],
      "execution_count": null,
      "outputs": [
        {
          "output_type": "display_data",
          "data": {
            "image/png": "[encoded data removed]",
            "text/plain": [
              "<Figure size 720x360 with 1 Axes>"
            ]
          },
          "metadata": {
            "tags": [],
            "needs_background": "light"
          }
        },
        {
          "output_type": "stream",
          "text": [
            "[277, 235, 157, 257, 170]\n",
            "1096\n"
          ],
          "name": "stdout"
        }
      ]
    },
    {
      "cell_type": "markdown",
      "metadata": {
        "id": "J8oF0C1n0HWU",
        "colab_type": "text"
      },
      "source": [
        "####**2.2.1 Tăng cường dữ liệu:**\n"
      ]
    },
    {
      "cell_type": "code",
      "metadata": {
        "id": "UhqL9OTr0Cs3",
        "colab_type": "code",
        "colab": {}
      },
      "source": [
        ""
      ],
      "execution_count": null,
      "outputs": []
    },
    {
      "cell_type": "markdown",
      "metadata": {
        "id": "YwTcUcsl2vmy",
        "colab_type": "text"
      },
      "source": [
        "#**3. Mô tả đặc trưng:**"
      ]
    }
  ]
}